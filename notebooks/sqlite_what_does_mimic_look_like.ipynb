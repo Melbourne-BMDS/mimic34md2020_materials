{
 "cells": [
  {
   "cell_type": "markdown",
   "metadata": {},
   "source": [
    "# A Quick Look at the MIMIC III Data Set\n",
    "\n"
   ]
  },
  {
   "cell_type": "code",
   "execution_count": null,
   "metadata": {
    "deletable": true
   },
   "outputs": [],
   "source": [
    "import warnings\n",
    "warnings.simplefilter(\"ignore\")\n",
    "from cdsutils.mutils import *\n",
    "from cdsutils.sqlite import *\n",
    "import matplotlib.pyplot as plt\n",
    "from dminteract.creator.utils import *\n",
    "%matplotlib inline"
   ]
  },
  {
   "cell_type": "code",
   "execution_count": null,
   "metadata": {},
   "outputs": [],
   "source": [
    "!cp /home/shared/mimic3.db ."
   ]
  },
  {
   "cell_type": "markdown",
   "metadata": {},
   "source": [
    "MIMIC III data are stored in a relational database. This is not an exploration of relational database theory or data modeling, but here is my novice quick description.\n",
    "\n",
    "* Relational databases seek to achieve accurate data representation by eliminating (reducing)  data redundancies and thus the opportunities for data inconsistencies.\n",
    "\n",
    "This is achieved by splitting data across **tables** and then **joining** the data back together when required."
   ]
  },
  {
   "cell_type": "markdown",
   "metadata": {},
   "source": [
    "### First we need to generate a connection to the MIMIC database\n",
    "\n",
    "As you work through this notebook, you might occasionally get an error that looks something like this (although much longer):\n",
    "\n",
    "```Python\n",
    "OperationalError: (psycopg2.OperationalError) server closed the connection unexpectedly\n",
    "\tThis probably means the server terminated abnormally\n",
    "\tbefore or while processing the request.\n",
    "\n",
    "```\n",
    "\n",
    "This just means that the connection with the database has timed out. All you need to do is come back up here and rerun the code below to get a new database connection."
   ]
  },
  {
   "cell_type": "code",
   "execution_count": null,
   "metadata": {
    "deletable": true,
    "editable": true
   },
   "outputs": [],
   "source": [
    "conn = get_mimic_connection()\n",
    "conn.list_tables()\n",
    "schema=None"
   ]
  },
  {
   "cell_type": "markdown",
   "metadata": {
    "deletable": true,
    "editable": true
   },
   "source": [
    "## Let's take a look at the tables\n",
    "\n",
    ">Before you can do anything, you have to understand tables. If you don't have a table, you have nothing to work on. The table is the standard unit of information in a relational database. Everything revolves around tables. Tables are composed of rows and columns. And while that sounds simple, the sad truth is that tables are not simple. (*The Definitive Guide to SQLite*, p. 80 [owens2006definitive})\n",
    "\n",
    "\n",
    "Since I said data are split across tables, let's look at the tables in the MIMIC II demo database.\n",
    "\n",
    "### Take a look at the Tables in the Database"
   ]
  },
  {
   "cell_type": "code",
   "execution_count": null,
   "metadata": {
    "deletable": true
   },
   "outputs": [],
   "source": [
    "HTML(dlist(conn.list_tables(schema=schema), ncols=7, sort=True))"
   ]
  },
  {
   "cell_type": "markdown",
   "metadata": {
    "deletable": true,
    "editable": true
   },
   "source": [
    "## MIMIC III is well documented\n",
    "\n",
    "- You can read about each table [here](https://mimic.physionet.org/mimictables/).\n",
    "\n",
    "- As an example we can look at [microbiologyevents](https://mimic.physionet.org/mimictables/microbiologyevents/)"
   ]
  },
  {
   "cell_type": "markdown",
   "metadata": {
    "deletable": true,
    "editable": true
   },
   "source": [
    "## What are in the tables?\n",
    "### Ibis Provides two ways to see the definitions of each table\n",
    "\n",
    "1. `info()`\n",
    "1. `schema()1\n",
    "#### `info`"
   ]
  },
  {
   "cell_type": "code",
   "execution_count": null,
   "metadata": {},
   "outputs": [],
   "source": [
    "t = conn.table(\"icustays\")\n",
    "t.info()\n"
   ]
  },
  {
   "cell_type": "markdown",
   "metadata": {},
   "source": [
    "This is fairly ugly output, but tells us quite a bit about the table\n",
    "\n",
    "- `Column`: This is the column name\n",
    "- `Type`: This provides two pieces of information\n",
    "    - The data type used to represent the data (e.g. `int32` (a 32 bit integer)\n",
    "    - Whether the value is `nullable` (can be missing)\n",
    "        - Example: `row_id` is represented with a 32 bit integer and CANNOT be missing\n",
    "        - Example: `outtime` is represented with a `TimeStamp` and CAN be missing\n",
    "- `Non-NULL #`: The number of rows in the table with non-NULL values for that column"
   ]
  },
  {
   "cell_type": "markdown",
   "metadata": {},
   "source": [
    "#### `schema()`\n",
    "\n",
    "`schema()` returns a dictionary-like object that provides the column names and the data tuype for the column, but does not provide any information about whether the value can be missing or not."
   ]
  },
  {
   "cell_type": "code",
   "execution_count": null,
   "metadata": {},
   "outputs": [],
   "source": [
    "itview(conn.table(\"labevents\"))"
   ]
  },
  {
   "cell_type": "code",
   "execution_count": null,
   "metadata": {},
   "outputs": [],
   "source": [
    "itview(t.projection([\"subject_id\", \"icustay_id\", \"los\"]))"
   ]
  },
  {
   "cell_type": "code",
   "execution_count": null,
   "metadata": {},
   "outputs": [],
   "source": [
    "t.los.execute().describe()"
   ]
  },
  {
   "cell_type": "code",
   "execution_count": null,
   "metadata": {},
   "outputs": [],
   "source": [
    "t.projection([\"subject_id\", \"icustay_id\", \"los\"]).filter(t.los > 35).execute()"
   ]
  },
  {
   "cell_type": "code",
   "execution_count": null,
   "metadata": {},
   "outputs": [],
   "source": [
    "view_dict(t.schema())"
   ]
  },
  {
   "cell_type": "markdown",
   "metadata": {},
   "source": [
    "## Look at [`diagnoses_icd`]((https://mimic.physionet.org/mimictables/diagnoses_icd/)\n",
    "\n",
    "- You might want to use a search engine like [this](https://www.findacode.com/search/search.php) for identifying ICD9-CM codes."
   ]
  },
  {
   "cell_type": "code",
   "execution_count": null,
   "metadata": {},
   "outputs": [],
   "source": [
    "itview(conn.table(\"diagnoses_icd\"))"
   ]
  },
  {
   "cell_type": "markdown",
   "metadata": {},
   "source": [
    "## Things to notice\n",
    "\n",
    "- `icd9_code` values are NOT ICD9 codes. They are references (foreign keys) to the definitions in `d_icd_diagnoses`\n",
    "- `seq_num` is a ranking (\"provides the order in which the ICD diagnoses relate to the patient\") of the codes.\n"
   ]
  },
  {
   "cell_type": "markdown",
   "metadata": {
    "deletable": true,
    "editable": true
   },
   "source": [
    "### Take a look at [`patients`](https://mimic.physionet.org/mimictables/patients/)\n",
    "\n"
   ]
  },
  {
   "cell_type": "code",
   "execution_count": null,
   "metadata": {},
   "outputs": [],
   "source": [
    "itview(conn.table(\"patients\"))"
   ]
  },
  {
   "cell_type": "markdown",
   "metadata": {},
   "source": [
    "The [documentation](https://mimic.physionet.org/mimictables/patients/) tell us that this table links to `admission` and `icustays` vis the  `subject_id` value.\n",
    "\n",
    "There are three different date of death columns. You can read about the differences and decide which value you would want to use.\n",
    "\n",
    "- `NaT` represents a __missing time__.\n",
    "- `gender`: `GENDER is the genotypical sex of the patient`\n",
    "\n",
    "According to the WHO\n",
    "\n",
    ">Humans are born with 46 chromosomes in 23 pairs. The X and Y chromosomes determine a person’s sex. Most women are 46XX and most men are 46XY. Research suggests, however, that in a few births per thousand some individuals will be born with a single sex chromosome (45X or 45Y) (sex monosomies) and some with three or more sex chromosomes (47XXX, 47XYY or 47XXY, etc.) (sex polysomies). In addition, some males are born 46XX due to the translocation of a tiny section of the sex determining region of the Y chromosome. Similarly some females are also born 46XY due to mutations in the Y chromosome. Clearly, there are not only females who are XX and males who are XY, but rather, there is a range of chromosome complements, hormone balances, and phenotypic variations that determine sex. ([\"Gender and Genetics\"](https://www.who.int/genomics/gender/en/index1.html#:~:text=The%20X%20and%20Y%20chromosomes,47XYY%20or%2047XXY%2C%20etc.)))\n",
    "\n",
    "So how many different genders are in the database?\n",
    "\n",
    "We can use the `dictinct` method to get the unique values in a column:"
   ]
  },
  {
   "cell_type": "code",
   "execution_count": null,
   "metadata": {},
   "outputs": [],
   "source": [
    "t_pat = conn.table(\"patients\")\n",
    "t_pat['gender'].distinct().execute(limit=None)"
   ]
  },
  {
   "cell_type": "markdown",
   "metadata": {},
   "source": [
    "## How many total patients are there?\n",
    "\n",
    "- `count()` counts the number of rows in the table\n",
    "- A Note about execute: "
   ]
  },
  {
   "cell_type": "code",
   "execution_count": null,
   "metadata": {},
   "outputs": [],
   "source": [
    "t_pat.count().execute(limit=None)"
   ]
  },
  {
   "cell_type": "markdown",
   "metadata": {},
   "source": [
    "### Look at [`admissions`](https://mimic.physionet.org/mimictables/admissions/) \n",
    "\n",
    "Because this table is wider than our display, you might want to __right click__ cell below and \n",
    "select \"Create New View For Output\". This will create a new embedded window that has horizontal scrolling."
   ]
  },
  {
   "cell_type": "code",
   "execution_count": null,
   "metadata": {},
   "outputs": [],
   "source": [
    "itview(conn.table(\"admissions\"))"
   ]
  },
  {
   "cell_type": "markdown",
   "metadata": {},
   "source": [
    "In addition to the admission, and discharge information, this table also contains demographic information."
   ]
  },
  {
   "cell_type": "markdown",
   "metadata": {
    "deletable": true,
    "editable": true
   },
   "source": [
    "### Examine [`prescriptions`](https://mimic.physionet.org/mimictables/prescriptions/)\n",
    "\n"
   ]
  },
  {
   "cell_type": "code",
   "execution_count": null,
   "metadata": {},
   "outputs": [],
   "source": [
    "t_pre = conn.table(\"prescriptions\")\n",
    "t_pre.info()"
   ]
  },
  {
   "cell_type": "code",
   "execution_count": null,
   "metadata": {
    "deletable": true,
    "editable": true
   },
   "outputs": [],
   "source": [
    "tp = conn.table(\"prescriptions\")\n",
    "display(view_dict(tp.schema()))\n",
    "itview(tp)"
   ]
  },
  {
   "cell_type": "markdown",
   "metadata": {},
   "source": [
    "### Examine [`chartevents`](https://mimic.physionet.org/mimictables/chartevents/)\n",
    "\n",
    "- PATIENTS on SUBJECT_ID\n",
    "- ADMISSIONS on HADM_ID\n",
    "- ICUSTAYS on ICUSTAY_ID\n",
    "- D_ITEMS on ITEMID\n",
    "- CAREGIVERS on CGID"
   ]
  },
  {
   "cell_type": "code",
   "execution_count": null,
   "metadata": {},
   "outputs": [],
   "source": [
    "t_chart = conn.table(\"chartevents\")\n",
    "display(view_dict(t_chart.schema()))\n",
    "itview(t_chart)"
   ]
  },
  {
   "cell_type": "markdown",
   "metadata": {},
   "source": [
    "### Examine [`noteevents`](https://mimic.physionet.org/mimictables/noteevents/)\n",
    "\n",
    "- Empty in the demo database"
   ]
  },
  {
   "cell_type": "code",
   "execution_count": null,
   "metadata": {},
   "outputs": [],
   "source": [
    "itview(conn.table(\"noteevents\"))"
   ]
  },
  {
   "cell_type": "code",
   "execution_count": null,
   "metadata": {},
   "outputs": [],
   "source": [
    "@ipw.interact(conn = fixed(conn), table = conn.list_tables())\n",
    "def display_table(table, conn):\n",
    "    t = conn.table(table)\n",
    "    itview(t)"
   ]
  },
  {
   "cell_type": "code",
   "execution_count": null,
   "metadata": {},
   "outputs": [],
   "source": [
    "tch = conn.table(\"chartevents\")\n",
    "tcg = conn.table(\"caregivers\")\n",
    "tdi = conn.table(\"d_items\")\n",
    "tch.join(tcg, tch.cgid==tcg.cgid).projection([tch.subject_id, tch.hadm_id, tch.icustay_id, \n",
    "                                              tch.itemid, tch.charttime, tcg.cgid, tcg.label, \n",
    "                                              tcg.description]).execute(limit=10)"
   ]
  },
  {
   "cell_type": "code",
   "execution_count": null,
   "metadata": {},
   "outputs": [],
   "source": [
    "tch = conn.table(\"chartevents\")\n",
    "tcg = conn.table(\"caregivers\")\n",
    "tdi = conn.table(\"d_items\")\n",
    "tch\\\n",
    ".join(tcg, tch.cgid==tcg.cgid)\\\n",
    ".join(tdi, tch.itemid==tdi.itemid)\\\n",
    ".projection([tch.subject_id, tch.hadm_id, tch.icustay_id, \n",
    "             tcg.cgid, tcg.label.name(\"cg_label\"),tcg.description, tch.charttime,\n",
    "             tdi.label, tch.value, tch.valuenum, tch.valueuom,\n",
    "             tch.warning, tch.error, tch.resultstatus]).execute(limit=10)"
   ]
  },
  {
   "cell_type": "code",
   "execution_count": null,
   "metadata": {},
   "outputs": [],
   "source": [
    "tnew=tch\\\n",
    ".join(tcg, tch.cgid==tcg.cgid)\\\n",
    ".join(tdi, tch.itemid==tdi.itemid)\\\n",
    ".projection([tch.subject_id, tch.hadm_id, tch.icustay_id, \n",
    "             tcg.cgid, tcg.label.name(\"cg_label\"),tcg.description, tch.charttime,\n",
    "             tdi.label, tch.value, tch.valuenum, tch.valueuom,\n",
    "             tch.warning, tch.error, tch.resultstatus])\n",
    "itview(tnew.filter([tnew.label.like(\"%blood%\")]))"
   ]
  },
  {
   "cell_type": "markdown",
   "metadata": {},
   "source": [
    "## Note: SQLite is not dealing with dates correctly\n",
    "\n",
    "- Dates are not being recognized as dates and so are left as strings in the database (`object`)"
   ]
  },
  {
   "cell_type": "code",
   "execution_count": null,
   "metadata": {},
   "outputs": [],
   "source": [
    "tch.execute(limit=10).dtypes"
   ]
  },
  {
   "cell_type": "markdown",
   "metadata": {},
   "source": [
    "- I've written a function (`cast_df_times`) that takes any column with `time` in it and converts it to a date-time object"
   ]
  },
  {
   "cell_type": "markdown",
   "metadata": {},
   "source": [
    "### How could we select BP measurements for a given patient?"
   ]
  },
  {
   "cell_type": "code",
   "execution_count": null,
   "metadata": {},
   "outputs": [],
   "source": [
    "bp = cast_df_times(tnew.filter([tnew.subject_id==40310, (tnew.label==\"Arterial Blood Pressure diastolic\")|\n",
    "                                     (tnew.label==\"Arterial Blood Pressure systolic\")])\\\n",
    ".projection([tnew.subject_id,tnew.charttime, tnew.label, tnew.valuenum, tnew.valueuom]).execute(limit=10))\n",
    "bp"
   ]
  },
  {
   "cell_type": "markdown",
   "metadata": {},
   "source": [
    "### How would we analyze this?\n",
    "\n",
    "- Column `valuenum` contains both systolic and diastolic values\n",
    "- If you were really good at Ibis/SQL, which I am not, you could work this out with your query\n",
    "- We'll do it after the fact using Python"
   ]
  },
  {
   "cell_type": "code",
   "execution_count": null,
   "metadata": {},
   "outputs": [],
   "source": [
    "diastolic =tnew.filter([tnew.subject_id==40310, tnew.label==\"Arterial Blood Pressure diastolic\"])\\\n",
    ".projection([tnew.subject_id,tnew.charttime, tnew.label, tnew.valuenum, tnew.valueuom]).execute()\n",
    "systolic =tnew.filter([tnew.subject_id==40310, tnew.label==\"Arterial Blood Pressure systolic\"])\\\n",
    ".projection([tnew.subject_id,tnew.charttime, tnew.label, tnew.valuenum, tnew.valueuom]).execute()"
   ]
  },
  {
   "cell_type": "code",
   "execution_count": null,
   "metadata": {},
   "outputs": [],
   "source": [
    "diastolic = cast_df_times(diastolic)\n",
    "systolic = cast_df_times(systolic)"
   ]
  },
  {
   "cell_type": "code",
   "execution_count": null,
   "metadata": {},
   "outputs": [],
   "source": [
    "systolic.plot.line(x=\"charttime\", y=\"valuenum\")\n",
    "diastolic.plot.line(x=\"charttime\", y=\"valuenum\")"
   ]
  },
  {
   "cell_type": "code",
   "execution_count": null,
   "metadata": {},
   "outputs": [],
   "source": [
    "fig1, ax1 = plt.subplots(1)\n",
    "systolic.plot.line(x=\"charttime\", y=\"valuenum\", ax=ax1)\n",
    "diastolic.plot.line(x=\"charttime\", y=\"valuenum\", ax=ax1)"
   ]
  },
  {
   "cell_type": "code",
   "execution_count": null,
   "metadata": {},
   "outputs": [],
   "source": [
    "diastolic = cast_df_times(tnew.filter([tnew.subject_id==40310, tnew.label==\"Arterial Blood Pressure diastolic\"])\\\n",
    ".projection([tnew.subject_id,tnew.charttime, tnew.label, tnew.valuenum.name(\"diastolic_BP\"), tnew.valueuom]).execute())\n",
    "systolic = cast_df_times(tnew.filter([tnew.subject_id==40310, tnew.label==\"Arterial Blood Pressure systolic\"])\\\n",
    ".projection([tnew.subject_id,tnew.charttime, tnew.label, tnew.valuenum.name(\"systolic_BP\") , tnew.valueuom]).execute())"
   ]
  },
  {
   "cell_type": "code",
   "execution_count": null,
   "metadata": {},
   "outputs": [],
   "source": [
    "diastolic.head()"
   ]
  },
  {
   "cell_type": "code",
   "execution_count": null,
   "metadata": {},
   "outputs": [],
   "source": [
    "fig2, ax2 = plt.subplots(1)\n",
    "systolic.plot.line(x=\"charttime\", y=\"systolic_BP\", ax=ax2)\n",
    "diastolic.plot.line(x=\"charttime\", y=\"diastolic_BP\", ax=ax2)"
   ]
  },
  {
   "cell_type": "code",
   "execution_count": null,
   "metadata": {},
   "outputs": [],
   "source": [
    "pd.concat([systolic[[\"subject_id\", \"charttime\", \"systolic_BP\"]], diastolic[\"diastolic_BP\"]], axis=1)"
   ]
  },
  {
   "cell_type": "markdown",
   "metadata": {},
   "source": [
    "## Exercises"
   ]
  },
  {
   "cell_type": "code",
   "execution_count": null,
   "metadata": {},
   "outputs": [],
   "source": [
    "for w in create_question_bank(\"day1_bec.yaml\", tag=\"mimic,mf\"):\n",
    "    display(w)"
   ]
  },
  {
   "cell_type": "code",
   "execution_count": null,
   "metadata": {},
   "outputs": [],
   "source": []
  }
 ],
 "metadata": {
  "kernelspec": {
   "display_name": "Python 3",
   "language": "python",
   "name": "python3"
  },
  "language_info": {
   "codemirror_mode": {
    "name": "ipython",
    "version": 3
   },
   "file_extension": ".py",
   "mimetype": "text/x-python",
   "name": "python",
   "nbconvert_exporter": "python",
   "pygments_lexer": "ipython3",
   "version": "3.7.6"
  }
 },
 "nbformat": 4,
 "nbformat_minor": 4
}
