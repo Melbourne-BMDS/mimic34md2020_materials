{
 "cells": [
  {
   "cell_type": "markdown",
   "metadata": {},
   "source": [
    "# Relational Databases and Normal Form\n",
    "\n",
    "This is adapted from \n",
    "\n",
    "_MongoDB Applied Design Patterns_, Rick Copeland (O’Reilly). 978-1-449-34004-9.\n",
    "\n"
   ]
  },
  {
   "cell_type": "code",
   "execution_count": null,
   "metadata": {},
   "outputs": [],
   "source": [
    "from IPython.display import Image\n",
    "import sqlite3 as sq\n",
    "\n",
    "Image(\"http://imgs.xkcd.com/comics/exploits_of_a_mom.png\")"
   ]
  },
  {
   "cell_type": "markdown",
   "metadata": {},
   "source": [
    "By far the most common form of a database is a relational database, like [Oracle](https://www.oracle.com/au/database/), [SQLServer](https://www.microsoft.com/en-gb/sql-server/), or [PostgreSQL](https://www.postgresql.org/). \n",
    "\n",
    "Relational databases are buided by the concept of [__first normal form (1NF)__](https://en.wikipedia.org/wiki/First_normal_form).\n",
    "\n",
    "\n",
    ">For our purposes, we can consider 1NF data to be any data that’s tabular (composed of rows and columns), with each row-column intersection (“cell”) containing __exactly one value.__ (*MongoDB Applied Design Patterns,* p 18)\n",
    "\n",
    "## A Motivating Example\n",
    "\n",
    "Consider a database that is designed to keep track of people, their phone number, and their zip (USA, postal AU) code.\n",
    "\n",
    "\n"
   ]
  },
  {
   "cell_type": "markdown",
   "metadata": {},
   "source": [
    "|id  | name  | phone\\_number| zip code |\n",
    "|----|:-----:|:-------------|---------:|\n",
    "|1   | Rick  |555-111-1234  | 30062    |\n",
    "|2   | Mike  | 555-222-2345 | 30062|\n",
    "|3   | Jenny |555-333-3456  |01209|\n",
    "\n",
    "\n",
    "This is straightforward enough, but what if...\n",
    "\n",
    "...people have more than one phone number?\n",
    "\n",
    "### Two Numbers?\n",
    "\n",
    "- Cell number\n",
    "- Home number"
   ]
  },
  {
   "cell_type": "markdown",
   "metadata": {},
   "source": [
    "## What if people have more than one phone number?\n",
    "### Is this first normal form?"
   ]
  },
  {
   "cell_type": "markdown",
   "metadata": {},
   "source": [
    "|id  | name  | phone\\_number| zip code |\n",
    "|----|:-----:|:-------------|---------:|\n",
    "|1   | Rick  |555-111-1234  | 30062    |\n",
    "|2   | Mike  | 555-222-2345;555-212-2322 | 30062|\n",
    "|3   | Jenny |555-333-3456;555-334-3411 |01209|\n"
   ]
  },
  {
   "cell_type": "markdown",
   "metadata": {},
   "source": [
    "### What do you think of this solution?\n",
    "\n",
    "|id  | name  | phone\\_number0|phone\\_number1| zip code |\n",
    "|----|:-----:|:-------------|:--------------|---------:|\n",
    "|1   | Rick  |555-111-1234  |NULL | 30062    |\n",
    "|2   | Mike  | 555-222-2345 |555-212-2322 | 30062|\n",
    "|3   | Jenny |555-333-3456 | 555-334-3411 |01209|\n",
    "\n"
   ]
  },
  {
   "cell_type": "markdown",
   "metadata": {},
   "source": [
    "## Is This first normal form?\n",
    "\n",
    "|id  | name  | phone\\_number| zip code |\n",
    "|----|:-----:|:-------------|---------:|\n",
    "|1   | Rick  |555-111-1234  | 30062    |\n",
    "|2   | Mike  | 555-222-2345 | 30062|\n",
    "|2   | Mike  | 555-212-2322 | 30062|\n",
    "|3   | Jenny |555-333-3456  |01209|\n",
    "|3   | Jenny |555-334-3411  |01209|\n",
    "\n",
    "### Any drawbacks?"
   ]
  },
  {
   "cell_type": "markdown",
   "metadata": {},
   "source": [
    "## What is the cost of our solution?\n",
    "\n",
    "We have introduced redudancy.\n",
    "\n",
    "* Increased data storage\n",
    "* **Opportunities for data inconsistency**\n",
    "\n",
    "## Here is the Normal Form Solution\n",
    "\n",
    "|id  | name  | zip code |\n",
    "|----|:-----:|---------:|\n",
    "|1   | Rick  | 30062    |\n",
    "|2   | Mike  |30062|\n",
    "|3   | Jenny |01209|\n",
    "\n",
    "\n",
    "|id  |phone\\_number| \n",
    "|----|:-------------|\n",
    "|1   |555-111-1234  | \n",
    "|2   |555-222-2345 | \n",
    "|2   |555-212-2322 | \n",
    "|3   |555-333-3456  |\n",
    "|3   |555-334-3411  |"
   ]
  }
 ],
 "metadata": {
  "kernelspec": {
   "display_name": "Python 3",
   "language": "python",
   "name": "python3"
  },
  "language_info": {
   "codemirror_mode": {
    "name": "ipython",
    "version": 3
   },
   "file_extension": ".py",
   "mimetype": "text/x-python",
   "name": "python",
   "nbconvert_exporter": "python",
   "pygments_lexer": "ipython3",
   "version": "3.7.6"
  }
 },
 "nbformat": 4,
 "nbformat_minor": 4
}
