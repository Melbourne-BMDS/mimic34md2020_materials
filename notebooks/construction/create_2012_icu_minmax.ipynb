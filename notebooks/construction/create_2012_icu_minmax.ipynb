{
 "cells": [
  {
   "cell_type": "code",
   "execution_count": null,
   "metadata": {},
   "outputs": [],
   "source": [
    "import pandas as pd\n",
    "import os\n",
    "import glob\n",
    "DATADIR = \"/home/shared/predicting-mortality-of-icu-patients-the-physionet-computing-in-cardiology-challenge-2012-1.0.0/set-a\""
   ]
  },
  {
   "cell_type": "code",
   "execution_count": null,
   "metadata": {},
   "outputs": [],
   "source": [
    "files = glob.glob(os.path.join(DATADIR, \"*.txt\"))"
   ]
  },
  {
   "cell_type": "code",
   "execution_count": null,
   "metadata": {},
   "outputs": [],
   "source": [
    "results = []\n",
    "for f in files:\n",
    "    data = pd.read_csv(f)\n",
    "\n",
    "    try:\n",
    "        data[[\"Hours\", \"Minutes\"]] = data.apply(lambda x: tuple(map(float,x[\"Time\"].split(\":\"))), \n",
    "                                          axis=1,\n",
    "                                          result_type=\"expand\")\n",
    "        d2 = data[data.Hours < 25].groupby(\"Parameter\", as_index=False)[\"Value\"].aggregate([min, max]).reset_index()\n",
    "        results.append(d2)\n",
    "    except:\n",
    "        pass\n",
    "    "
   ]
  },
  {
   "cell_type": "code",
   "execution_count": null,
   "metadata": {},
   "outputs": [],
   "source": [
    "values = set([rr.strip() for r in results for rr in r.Parameter])"
   ]
  },
  {
   "cell_type": "code",
   "execution_count": null,
   "metadata": {},
   "outputs": [],
   "source": [
    "len(values)"
   ]
  },
  {
   "cell_type": "code",
   "execution_count": null,
   "metadata": {},
   "outputs": [],
   "source": [
    "demo = [\"RecordID\", \"Age\", \"Gender\", \"Height\", \"ICUType\", \"Weight\"]"
   ]
  },
  {
   "cell_type": "code",
   "execution_count": null,
   "metadata": {},
   "outputs": [],
   "source": [
    "meas=list(values.difference(demo))\n",
    "meas.sort()\n",
    "meas"
   ]
  },
  {
   "cell_type": "code",
   "execution_count": null,
   "metadata": {},
   "outputs": [],
   "source": [
    "r = results[0]"
   ]
  },
  {
   "cell_type": "code",
   "execution_count": null,
   "metadata": {},
   "outputs": [],
   "source": [
    "tmp1 = r.set_index(\"Parameter\").transpose()\n",
    "tmp1"
   ]
  },
  {
   "cell_type": "code",
   "execution_count": null,
   "metadata": {},
   "outputs": [],
   "source": [
    "tmp1.columns"
   ]
  },
  {
   "cell_type": "code",
   "execution_count": null,
   "metadata": {},
   "outputs": [],
   "source": [
    "tmp1[\"Age\"][\"min\"]"
   ]
  },
  {
   "cell_type": "code",
   "execution_count": null,
   "metadata": {},
   "outputs": [],
   "source": [
    "import numpy as np"
   ]
  },
  {
   "cell_type": "code",
   "execution_count": null,
   "metadata": {},
   "outputs": [],
   "source": [
    "with open(\"icu_2012.txt\", \"w\") as s:\n",
    "    for d in demo:\n",
    "        d = d.strip()\n",
    "        s.write(d+ \",\")\n",
    "    for m in meas:\n",
    "        m = m.strip()\n",
    "        s.write(\"%s_min,%s_max,\"%(m,m))\n",
    "    s.write(\"\\n\")\n",
    "    for r in results:\n",
    "        tmp1 = r.set_index(\"Parameter\").transpose()\n",
    "        for d in demo:\n",
    "            if d in [\"RecordID\", \"Age\", \"Gender\", \"ICUType\"]:\n",
    "                val = str(int(tmp1[d][\"min\"]))\n",
    "            else:\n",
    "                val = str(tmp1[d][\"min\"])\n",
    "            #print(d)\n",
    "            s.write(val+\",\")\n",
    "        for m in meas:\n",
    "            #print(d)\n",
    "            try:\n",
    "                s.write(str(tmp1[m][\"min\"])+\",\")\n",
    "            except:\n",
    "                s.write(\"nan,\")\n",
    "            try:\n",
    "                s.write(str(tmp1[m][\"max\"])+\",\")\n",
    "            except:\n",
    "                s.write(\"nan,\")\n",
    "        s.write(\"\\n\")    "
   ]
  },
  {
   "cell_type": "code",
   "execution_count": null,
   "metadata": {},
   "outputs": [],
   "source": [
    "icu_data = pd.read_csv(\"icu_2012.txt\")\n",
    "icu_data.head(5)"
   ]
  },
  {
   "cell_type": "code",
   "execution_count": null,
   "metadata": {},
   "outputs": [],
   "source": [
    "icu_data.dtypes"
   ]
  },
  {
   "cell_type": "code",
   "execution_count": null,
   "metadata": {},
   "outputs": [],
   "source": [
    "set(icu_data.WBC_min)"
   ]
  },
  {
   "cell_type": "code",
   "execution_count": null,
   "metadata": {},
   "outputs": [],
   "source": [
    "icu_data[[\"RecordID\", \"Age\", \"Gender\", \"ICUType\"]] = icu_data[[\"RecordID\", \"Age\", \"Gender\", \"ICUType\"]].astype(np.int64)"
   ]
  },
  {
   "cell_type": "code",
   "execution_count": null,
   "metadata": {},
   "outputs": [],
   "source": [
    "icu_data"
   ]
  },
  {
   "cell_type": "code",
   "execution_count": null,
   "metadata": {},
   "outputs": [],
   "source": [
    "icu_data[\"TroponinI_max\"].unique()"
   ]
  },
  {
   "cell_type": "code",
   "execution_count": null,
   "metadata": {},
   "outputs": [],
   "source": [
    "icu_data.describe()"
   ]
  },
  {
   "cell_type": "code",
   "execution_count": null,
   "metadata": {},
   "outputs": [],
   "source": [
    "icu_data.astype(np.int64)"
   ]
  }
 ],
 "metadata": {
  "kernelspec": {
   "display_name": "Python 3",
   "language": "python",
   "name": "python3"
  },
  "language_info": {
   "codemirror_mode": {
    "name": "ipython",
    "version": 3
   },
   "file_extension": ".py",
   "mimetype": "text/x-python",
   "name": "python",
   "nbconvert_exporter": "python",
   "pygments_lexer": "ipython3",
   "version": "3.7.6"
  }
 },
 "nbformat": 4,
 "nbformat_minor": 4
}
