{
 "cells": [
  {
   "cell_type": "code",
   "execution_count": null,
   "metadata": {},
   "outputs": [],
   "source": [
    "import pandas as pd\n",
    "\n",
    "%matplotlib inline\n",
    "import numpy as np\n",
    "import matplotlib.pyplot as plt\n",
    "\n",
    "from sklearn.naive_bayes import GaussianNB, ComplementNB\n",
    "from sklearn.model_selection import train_test_split\n",
    "from sklearn.metrics import roc_auc_score\n",
    "import os\n",
    "DATADIR = \"/home/shared\""
   ]
  },
  {
   "cell_type": "code",
   "execution_count": null,
   "metadata": {},
   "outputs": [],
   "source": [
    "# creating a df for the icu data\n",
    "df_icu_2012 = pd.read_csv(os.path.join(DATADIR, \"icu_2012.txt\"), na_values=[-1,\"nan\"] )\n",
    "df_icu_2012.head()\n"
   ]
  },
  {
   "cell_type": "code",
   "execution_count": null,
   "metadata": {},
   "outputs": [],
   "source": [
    "#creating a df for the outcomes\n",
    "df_outcome = pd.read_csv(os.path.join(DATADIR, \"outcomes-a.txt\"))\n",
    "\n",
    "# we only need the last column on in-hospital deaths\n",
    "df_outcome = df_outcome.drop(columns=['SAPS-I','SOFA','Length_of_stay', 'Survival'])\n",
    "\n",
    "#joining the two using inner join (to make sure we don't include any records which are not complete)\n",
    "#df_icu_deaths = pd.merge(left=df_icu_2012, right=df_outcome, left_on='RecordID', right_on='RecordID')\n",
    "#df_icu_deaths = df_icu_deaths.drop(columns=['In-hospital_death'])\n",
    "\n",
    "#just some cleaning up above - the above can be deleted or ignored. \n",
    "df_icu_deaths = df_icu_2012"
   ]
  },
  {
   "cell_type": "code",
   "execution_count": null,
   "metadata": {},
   "outputs": [],
   "source": [
    "#because of missing data, must impute the missing 'nan' data for GaussianNB\n",
    "from sklearn.impute import SimpleImputer\n",
    "\n",
    "# we choose mean, but median might be better\n",
    "fill_NaN = SimpleImputer(missing_values=np.nan, strategy='mean')\n",
    "df_icu_deaths = pd.DataFrame(fill_NaN.fit_transform(df_icu_deaths))"
   ]
  },
  {
   "cell_type": "code",
   "execution_count": null,
   "metadata": {},
   "outputs": [],
   "source": [
    "# the following will split the dataframe into train and test with a test size of 25%\n",
    "# we only need the last column of the outcome data set, so the:\n",
    "# df_outcome[df_outcome.columns[1]] is used for this.\n",
    "\n",
    "df_icu_deaths_train, \\\n",
    "df_icu_deaths_test, \\\n",
    "df_outcome_train, \\\n",
    "df_outcome_test = \\\n",
    "    train_test_split( \\\n",
    "    df_icu_deaths, \\\n",
    "    df_outcome[df_outcome.columns[1]], \\\n",
    "    test_size = 0.25, \\\n",
    "    random_state = 42)"
   ]
  },
  {
   "cell_type": "code",
   "execution_count": null,
   "metadata": {},
   "outputs": [],
   "source": [
    "df_icu_deaths_train"
   ]
  },
  {
   "cell_type": "code",
   "execution_count": null,
   "metadata": {},
   "outputs": [],
   "source": [
    "# there are other NB classifiers but we've chosen Gaussian here.\n",
    "model = GaussianNB()\n",
    "model.fit(df_icu_deaths_train, df_outcome_train)"
   ]
  },
  {
   "cell_type": "code",
   "execution_count": null,
   "metadata": {},
   "outputs": [],
   "source": [
    "df_outcome_predict = model.predict(df_icu_deaths_test)\n",
    "#df_outcome_predict"
   ]
  },
  {
   "cell_type": "code",
   "execution_count": null,
   "metadata": {},
   "outputs": [],
   "source": [
    "from sklearn.metrics import accuracy_score\n",
    "\n",
    "accuracy = accuracy_score(df_outcome_test, df_outcome_predict) * 100\n",
    "\n",
    "print(\"The accuracy is: \" + str(accuracy) +\"%\") \n"
   ]
  },
  {
   "cell_type": "code",
   "execution_count": null,
   "metadata": {},
   "outputs": [],
   "source": [
    "# would love to know which 'features' turned out to be the best features. \n",
    "# from here we would find these features and see which ones are correlated\n",
    "# possibly doing a PCA to eliminate the features which are highly correlated\n",
    "# this would allow for a much better assumption of naivety.\n",
    "# then doing more feature engineering. "
   ]
  },
  {
   "cell_type": "markdown",
   "metadata": {},
   "source": [
    "## Additional Things we can try/think about\n",
    "\n",
    "- Dealing with unblanced data (`ComplementNB`)\n",
    "- Do we need to [rescale](https://scikit-learn.org/stable/modules/preprocessing.html#standardization-or-mean-removal-and-variance-scaling) our data?"
   ]
  },
  {
   "cell_type": "code",
   "execution_count": null,
   "metadata": {},
   "outputs": [],
   "source": [
    "from sklearn import preprocessing\n",
    "min_max_scaler = preprocessing.MinMaxScaler()"
   ]
  },
  {
   "cell_type": "code",
   "execution_count": null,
   "metadata": {},
   "outputs": [],
   "source": [
    "df_icu_deaths_train_sc = min_max_scaler.fit_transform(df_icu_deaths_train)"
   ]
  },
  {
   "cell_type": "code",
   "execution_count": null,
   "metadata": {},
   "outputs": [],
   "source": [
    "model2 = ComplementNB()\n",
    "model2.fit(df_icu_deaths_train, df_outcome_train)\n",
    "df_outcome_predict = model.predict(df_icu_deaths_test)\n"
   ]
  },
  {
   "cell_type": "code",
   "execution_count": null,
   "metadata": {},
   "outputs": [],
   "source": [
    "df_icu_deaths_train"
   ]
  },
  {
   "cell_type": "code",
   "execution_count": null,
   "metadata": {},
   "outputs": [],
   "source": []
  }
 ],
 "metadata": {
  "kernelspec": {
   "display_name": "Python 3",
   "language": "python",
   "name": "python3"
  },
  "language_info": {
   "codemirror_mode": {
    "name": "ipython",
    "version": 3
   },
   "file_extension": ".py",
   "mimetype": "text/x-python",
   "name": "python",
   "nbconvert_exporter": "python",
   "pygments_lexer": "ipython3",
   "version": "3.7.6"
  }
 },
 "nbformat": 4,
 "nbformat_minor": 4
}
