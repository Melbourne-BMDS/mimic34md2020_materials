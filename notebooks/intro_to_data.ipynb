{
 "cells": [
  {
   "cell_type": "markdown",
   "metadata": {},
   "source": [
    "# What Do We Mean by Data?\n",
    "\n",
    "Before we dive deep into the details, we should probably establish some understanding of what we mean by data and information, terms we might be kind of loose with as we go forward.\n",
    "\n",
    "## The Diaphoric Definition of Data (DDD):\n",
    "\n",
    "- From the Greek διάϕορος (different) \"of or pertaining to difference\" (OED)\n",
    "\n",
    "#### [\"A datum is a putative fact regarding some difference or lack of uniformity within some context.\"](https://plato.stanford.edu/entries/information-semantic/#1.3)\n",
    "\n",
    "- A difference in pressure\n",
    "- A difference in electrical charge\n",
    "- A difference in reflectivity\n",
    "- A difference in a symbol\n",
    "\n",
    "### [Kinds of Data](https://plato.stanford.edu/entries/information-semantic/#1.5)\n",
    "\n",
    "1. __Primary Data__\n",
    "1. Secondary Data (anti-data)\n",
    "1. __Metadata__\n",
    "1. Operational Data\n",
    "1. Derivative Data\n",
    "\n",
    "# Datum/Data in Medicine\n",
    "\n",
    "- Primary Data (A difference in the world)\n",
    "    - Blood pressure\n",
    "    - A recording of that difference\n",
    "        - 133\n",
    "- Metadata about that datum\n",
    "    - \"units of measurement (mm Hg)\"\n",
    "    - \"location of measurement: right arm\"\n",
    "\n",
    "\n",
    "## General Definition of Information (GDI) \n",
    "\n",
    "- data + meaning &rArr; Information\n",
    "- data + metadata &rArr; Information\n",
    "\n",
    "### What Does this Mean?\n",
    "\n",
    "Let σ by a piece of information. Then...\n",
    "\n",
    "#### σ consists of one or more datum \n",
    "\n",
    "- No information without data\n",
    "\n",
    "#### The data are well formed (follows \"rules of grammar\")\n",
    "\n",
    "__Example__\n",
    "\n",
    "![Floridi example of well formed data](https://plato.stanford.edu/entries/information-semantic/figure2.jpg)\n",
    "\n",
    "Visual grammar: Cars are not on top of each other\n",
    "\n",
    "__Example__\n",
    "\n",
    "- _\\$4.32_ (Satisfies the rules of currency notation)\n",
    "- _4.32\\$_ (Does not satisfy the rules of currency notation)\n",
    "\n",
    "#### The data are meaningful.\n",
    "\n",
    "- \"#$!#$%\"?\n",
    "- \"tire\" ?\n",
    "- \"9,321\"?\n",
    "\n",
    "## Standards\n",
    "\n",
    "- [Systematized Nomenclature of Medicine (SNOMED)](http://www.snomed.org/)\n",
    "- [Gene Ontology (GO)](http://geneontology.org/)\n",
    "- [International System of Units (SI)](https://www.bipm.org/en/about-us/)\n"
   ]
  },
  {
   "cell_type": "code",
   "execution_count": null,
   "metadata": {},
   "outputs": [],
   "source": [
    "from dminteract.creator.utils import create_question_bank\n",
    "from IPython.display import display"
   ]
  },
  {
   "cell_type": "code",
   "execution_count": null,
   "metadata": {},
   "outputs": [],
   "source": [
    "for w in create_question_bank(\"day1_bec.yaml\", tag=\"data, information\"):\n",
    "    display(w)"
   ]
  },
  {
   "cell_type": "code",
   "execution_count": null,
   "metadata": {},
   "outputs": [],
   "source": []
  }
 ],
 "metadata": {
  "kernelspec": {
   "display_name": "Python 3",
   "language": "python",
   "name": "python3"
  },
  "language_info": {
   "codemirror_mode": {
    "name": "ipython",
    "version": 3
   },
   "file_extension": ".py",
   "mimetype": "text/x-python",
   "name": "python",
   "nbconvert_exporter": "python",
   "pygments_lexer": "ipython3",
   "version": "3.7.6"
  }
 },
 "nbformat": 4,
 "nbformat_minor": 4
}
