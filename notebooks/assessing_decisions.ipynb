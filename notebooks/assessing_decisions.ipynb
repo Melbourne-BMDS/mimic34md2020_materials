{
 "cells": [
  {
   "cell_type": "markdown",
   "metadata": {},
   "source": [
    "# Assessing Classification Accuracy\n",
    "\n",
    "![DARPA Net](https://www.sri.com/wp-content/uploads/2019/08/25_bw_arpanet2.png)\n",
    "\n",
    "## [Scikit-Learn: Model Evaluation](https://scikit-learn.org/stable/modules/model_evaluation.html)\n",
    "\n",
    "## [Signal Detection Theory](http://gureckislab.org/courses/fall19/labincp/chapters/10/00-sdt.html)\n",
    "\n",
    "- Why do we need Signal Detection Theory?\n",
    "- What are the roots of signal detection theory?\n",
    "\n",
    "## What is an ROC Curve?\n",
    "- How is it generated?\n",
    "- What are its characteristics?"
   ]
  },
  {
   "cell_type": "code",
   "execution_count": null,
   "metadata": {},
   "outputs": [],
   "source": [
    "from cdsutils.mutils import *\n",
    "from cdsutils.sdt import *\n",
    "#%matplotlib inline"
   ]
  },
  {
   "cell_type": "code",
   "execution_count": null,
   "metadata": {},
   "outputs": [],
   "source": [
    "compute_stats(pop2(0,5,5000),pop2(0,5,5000))"
   ]
  },
  {
   "cell_type": "markdown",
   "metadata": {},
   "source": [
    "### Let's Generate some random populations\n",
    "\n",
    "In my analyses I assume that __positive__ cases have a more __positive__ value of the test result."
   ]
  },
  {
   "cell_type": "code",
   "execution_count": null,
   "metadata": {},
   "outputs": [],
   "source": [
    "pn1 = pop1(-2,3,3000)\n",
    "pp1 = pop1(0,5,1000)"
   ]
  },
  {
   "cell_type": "markdown",
   "metadata": {},
   "source": [
    "## Practice\n",
    "\n",
    "### See if you can write functions to do the following:"
   ]
  },
  {
   "cell_type": "code",
   "execution_count": null,
   "metadata": {},
   "outputs": [],
   "source": [
    "data1 = ra.uniform(3,10,10)\n",
    "data2 = ra.uniform(1,9,10)\n",
    "data3 = ra.normal(0,1,10)\n",
    "data4 = ra.normal(0.5,1.5,10)"
   ]
  },
  {
   "cell_type": "code",
   "execution_count": null,
   "metadata": {},
   "outputs": [],
   "source": [
    "data1, data2, data3, data4"
   ]
  },
  {
   "cell_type": "code",
   "execution_count": null,
   "metadata": {},
   "outputs": [],
   "source": [
    "def _num_pos(data, threshold):\n",
    "    \"\"\"\n",
    "    Given a sequence of data points (data), return the NUMBER (count) of data points\n",
    "    greater than or equal to threshold\n",
    "    \"\"\"\n",
    "    pass\n",
    "def _num_neg(data, threshold):\n",
    "        \"\"\"\n",
    "    Given a sequence of data points (data), return the NUMBER (count) of data points\n",
    "    less than threshold\n",
    "    \"\"\"\n",
    "    pass\n",
    "def _pf(data, threshold):\n",
    "    \"\"\"\n",
    "    Given a sequence of data points (data), return the FRACTION of data points greater\n",
    "    than or equal to threshold\n",
    "    \"\"\"\n",
    "    pass\n",
    "def _pops_min(*ps):\n",
    "    \"\"\"\n",
    "    Given an arbitrary number of data sequences (*ps), return the minimum value observed\n",
    "    acorss all the sequences (look up variable number of positional arguments in Python functions)\n",
    "    \"\"\"\n",
    "    pass\n",
    "def _pops_max(*ps):\n",
    "def _pops_min(*ps):\n",
    "    \"\"\"\n",
    "    Given an arbitrary number of data sequences (*ps), return the maximum value observed\n",
    "    acorss all the sequences (look up variable number of positional arguments in Python functions)\n",
    "    \"\"\"\n",
    "    pass"
   ]
  },
  {
   "cell_type": "code",
   "execution_count": null,
   "metadata": {},
   "outputs": [],
   "source": [
    "pn = pop2(0,5,5000)\n",
    "pp = pop2(5,5,1000)\n",
    "pn2 = pop3(2,5,1000)\n",
    "pp2 = pop3(5,5,1000)"
   ]
  },
  {
   "cell_type": "code",
   "execution_count": null,
   "metadata": {},
   "outputs": [],
   "source": [
    "fs,ts = trace_roc(pp, pn)\n",
    "auc(pp1,pn1)"
   ]
  },
  {
   "cell_type": "code",
   "execution_count": null,
   "metadata": {},
   "outputs": [],
   "source": []
  },
  {
   "cell_type": "code",
   "execution_count": null,
   "metadata": {},
   "outputs": [],
   "source": [
    "def _ppv(pos,neg, t):\n",
    "    pass\n",
    "def npv(pos, neg, t):\n",
    "    pass"
   ]
  },
  {
   "cell_type": "code",
   "execution_count": null,
   "metadata": {},
   "outputs": [],
   "source": [
    "compute_stats(pp,pn)"
   ]
  },
  {
   "cell_type": "code",
   "execution_count": null,
   "metadata": {},
   "outputs": [],
   "source": [
    "compute_stats(pp1,pn1)"
   ]
  },
  {
   "cell_type": "code",
   "execution_count": null,
   "metadata": {},
   "outputs": [],
   "source": [
    "compute_stats(pp,pn1)"
   ]
  },
  {
   "cell_type": "code",
   "execution_count": null,
   "metadata": {},
   "outputs": [],
   "source": [
    "\n",
    "sns.distplot(pn2)\n",
    "sns.distplot(pp2)\n",
    "\n"
   ]
  },
  {
   "cell_type": "code",
   "execution_count": null,
   "metadata": {},
   "outputs": [],
   "source": [
    "compute_stats(pp2,pn2)"
   ]
  },
  {
   "cell_type": "code",
   "execution_count": null,
   "metadata": {},
   "outputs": [],
   "source": [
    "sns.distplot(ra.wald(2,5,1000))"
   ]
  },
  {
   "cell_type": "code",
   "execution_count": null,
   "metadata": {},
   "outputs": [],
   "source": [
    "wprev = ipw.FloatSlider(min=0.05, max = 1.0, value=0.5)\n",
    "wnum = ipw.IntSlider(min=100, max = 10000, value=1000)\n",
    "wdelta = ipw.FloatSlider(min=0, max = 4.0, value=0.5)\n",
    "def experiment1(n, prev, delta):\n",
    "    p1 = ra.normal(0,1,int(n*(1-prev)))\n",
    "    p2 = ra.normal(delta,1,int(n*prev))\n",
    "    compute_stats(p2,p1)\n",
    "ie = interactive(experiment1, n=wnum, prev=wprev, delta=wdelta)\n",
    "output = ie.children[-1]\n",
    "output.layout.height = '350px'\n",
    "ie"
   ]
  },
  {
   "cell_type": "markdown",
   "metadata": {},
   "source": [
    "## We know we are going to make errors, so ...?\n",
    "\n",
    "- Expected Outcomes\n",
    "- Values!?"
   ]
  }
 ],
 "metadata": {
  "kernelspec": {
   "display_name": "Python 3",
   "language": "python",
   "name": "python3"
  },
  "language_info": {
   "codemirror_mode": {
    "name": "ipython",
    "version": 3
   },
   "file_extension": ".py",
   "mimetype": "text/x-python",
   "name": "python",
   "nbconvert_exporter": "python",
   "pygments_lexer": "ipython3",
   "version": "3.7.6"
  }
 },
 "nbformat": 4,
 "nbformat_minor": 4
}
