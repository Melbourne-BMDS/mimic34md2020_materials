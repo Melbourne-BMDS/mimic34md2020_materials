{
 "cells": [
  {
   "cell_type": "markdown",
   "metadata": {},
   "source": [
    "## Example: Seinfeld Food Database\n"
   ]
  },
  {
   "cell_type": "code",
   "execution_count": null,
   "metadata": {},
   "outputs": [],
   "source": [
    "import ibis\n",
    "import os\n",
    "from IPython.display import display, HTML\n",
    "from markdown import markdown as md\n",
    "DATADIR = \"/home/shared\"\n",
    "from cdsutils.mutils import *\n",
    "from cdsutils.sqlite import *\n",
    "from dminteract.creator.utils import *"
   ]
  },
  {
   "cell_type": "code",
   "execution_count": null,
   "metadata": {},
   "outputs": [],
   "source": [
    "!cp /home/shared/seinfeld_utf8.sqlite3 ."
   ]
  },
  {
   "cell_type": "code",
   "execution_count": null,
   "metadata": {},
   "outputs": [],
   "source": [
    "conn = ibis.sqlite.connect(\"./seinfeld_utf8.sqlite3\")\n",
    "conn.list_tables()"
   ]
  },
  {
   "cell_type": "code",
   "execution_count": null,
   "metadata": {},
   "outputs": [],
   "source": [
    "tft = conn.table(\"food_types\")"
   ]
  },
  {
   "cell_type": "code",
   "execution_count": null,
   "metadata": {},
   "outputs": [],
   "source": [
    "print(ibis.sqlite.compile(tft))"
   ]
  },
  {
   "cell_type": "markdown",
   "metadata": {},
   "source": [
    "## What do these tables look like?\n",
    "### Look at the Schema"
   ]
  },
  {
   "cell_type": "code",
   "execution_count": null,
   "metadata": {},
   "outputs": [],
   "source": [
    "for t in conn.list_tables():\n",
    "    tbl = conn.table(t)\n",
    "    nrows = tbl.count().execute()\n",
    "    display(HTML(md(\"### Table: %s\\n\\nnumber of rows=%3d\\n####Schema\"%(t, nrows))))\n",
    "    display(view_dict(tbl.schema(), vertical=False))"
   ]
  },
  {
   "cell_type": "markdown",
   "metadata": {},
   "source": [
    "### Look at the actual data"
   ]
  },
  {
   "cell_type": "markdown",
   "metadata": {},
   "source": [
    "# Putting Data Back Together\n",
    "\n",
    "Since this is a relational database, data has been split across tables so that the data is in __First Normal Form__. To make the data useful we have to put the data back together with __joins__.\n",
    "\n",
    "## Example: _What Food is in Each Episode?_\n",
    "\n",
    "### What tables do we need to put together?\n",
    "\n",
    "- `foods_episodes`: lists `food_id` and `episode_id`\n",
    "\n",
    "Let's try joining `food` with `food_id` so we can see the names of the food\n",
    "\n",
    "#### Problem!\n",
    "\n",
    "Before we start, we need to recognize that we've got a problem. The columns in the tables have overlapping names:\n",
    "\n",
    "- Every table has a column named `id`\n",
    "- `foods`, `episodes` and `food_types` all have columns named `name`"
   ]
  },
  {
   "cell_type": "markdown",
   "metadata": {},
   "source": [
    "#### Create table objects for our two tables"
   ]
  },
  {
   "cell_type": "code",
   "execution_count": null,
   "metadata": {},
   "outputs": [],
   "source": [
    "tf = conn.table(\"foods\")\n",
    "tfe = conn.table(\"foods_episodes\")"
   ]
  },
  {
   "cell_type": "markdown",
   "metadata": {},
   "source": [
    "### Join the tables\n",
    "\n",
    "To join the tables we use the `join` method for which we need to specify which columns in each table refer to each other. For example `food_id` in `foods_episodes` refers to `id` in `foods`.\n",
    "\n",
    "Both tables have a column named `id` so we will either have to discard one or both of them or rename one or both of them. To start with let's just discard the `id` columns. We will do this by specifically listing what columns to keep. "
   ]
  },
  {
   "cell_type": "code",
   "execution_count": null,
   "metadata": {},
   "outputs": [],
   "source": [
    "tnew = tfe.join(tf, tfe.food_id==tf.id).projection([tf.name, tfe.episode_id])\n",
    "itview(tnew)"
   ]
  },
  {
   "cell_type": "markdown",
   "metadata": {},
   "source": [
    "#### Only Half way there\n",
    "\n",
    "To make this useful, we still need to replace episode_id with something more useful. We need to join with `episodes`. `episode_id` refers to `id` in `episodes`.\n",
    "\n",
    "Now we have to face the overlapping names, namely `name`. We can use the `name()` method to rename columns."
   ]
  },
  {
   "cell_type": "code",
   "execution_count": null,
   "metadata": {},
   "outputs": [],
   "source": [
    "tf = conn.table(\"foods\")\n",
    "tfe = conn.table(\"foods_episodes\")\n",
    "te = conn.table(\"episodes\")\n",
    "\n",
    "\n",
    "tnew = tfe.join(tf, tfe.food_id==tf.id).join(te, tfe.episode_id==te.id).projection([tf.name, te.name.name(\"episode_name\"), tfe.episode_id, te.season])\n",
    "itview(tnew)"
   ]
  },
  {
   "cell_type": "code",
   "execution_count": null,
   "metadata": {},
   "outputs": [],
   "source": [
    "tnew.episode_id.distinct().count().execute(), tnew.episode_name.distinct().count().execute()"
   ]
  },
  {
   "cell_type": "markdown",
   "metadata": {},
   "source": [
    "## A Note on Line breaks in Python\n",
    "\n",
    "The line above where we define `tnew` was very long, hence unreadable, and poor style. So we want to break the line up. However, Python is sensitive to indentation, so you to have careful with how lines are broken up. Here are two different ways we can break the lines up."
   ]
  },
  {
   "cell_type": "code",
   "execution_count": null,
   "metadata": {},
   "outputs": [],
   "source": [
    "tnew = tfe.join(\n",
    "    tf, tfe.food_id==tf.id).join(\n",
    "        te, tfe.episode_id==te.id).projection(\n",
    "            [tf.name, te.name.name(\"episode_name\"), \n",
    "             tfe.episode_id, te.season])\n"
   ]
  },
  {
   "cell_type": "code",
   "execution_count": null,
   "metadata": {},
   "outputs": [],
   "source": [
    "tnew = tfe\\\n",
    ".join(tf, tfe.food_id==tf.id)\\\n",
    ".join(te, tfe.episode_id==te.id)\\\n",
    ".projection([tf.name, te.name.name(\"episode_name\"), \n",
    "             tfe.episode_id, te.season])"
   ]
  },
  {
   "cell_type": "markdown",
   "metadata": {},
   "source": [
    "__I kept both `tfe.episode_id` and `te.id` to demonstrate that they really are the same__\n",
    "\n",
    "#### What are we still missing?\n",
    "\n",
    "- The type of food\n",
    "- `join` with `food_types`\n",
    "    - `foods.type_id` refers to `food_types.id`\n",
    "    - rename `food_types.name` to `food_category`"
   ]
  },
  {
   "cell_type": "code",
   "execution_count": null,
   "metadata": {},
   "outputs": [],
   "source": [
    "tf = conn.table(\"foods\")\n",
    "tfe = conn.table(\"foods_episodes\")\n",
    "te = conn.table(\"episodes\")\n",
    "tft = conn.table(\"food_types\")\n",
    "\n",
    "tnew = tfe.join(tf, tfe.food_id==tf.id)\\\n",
    ".join(te, tfe.episode_id==te.id)\\\n",
    ".join(tft, tft.id==tf.type_id)\\\n",
    ".projection(\n",
    "    [tf.name, tft.name.name(\"food_category\"),\n",
    "     te.name.name(\"episode_name\"), \n",
    "     tfe.episode_id, te.season, ])\n",
    "itview(tnew)"
   ]
  },
  {
   "cell_type": "markdown",
   "metadata": {},
   "source": [
    "#### `sort`\n",
    "\n",
    "The order of our results seem less than ideal. We can sort our results using the `sort` method. `name` also seems too generic, so let's rename it to `food_name`."
   ]
  },
  {
   "cell_type": "code",
   "execution_count": null,
   "metadata": {},
   "outputs": [],
   "source": [
    "tfe = conn.table(\"foods_episodes\")\n",
    "tf = conn.table(\"foods\")\n",
    "te = conn.table(\"episodes\")\n",
    "tft = conn.table(\"food_types\")\n",
    "tnew = te.join(tfe, tfe.episode_id== te.id)\\\n",
    ".join(tf, tfe.food_id==tf.id)\\\n",
    ".join(tft, tf.type_id==tft.id)\\\n",
    ".projection(\n",
    "    [tf.name.name(\"food_name\"),\n",
    "     tft.name.name(\"food_category\"),\n",
    "     te.name.name(\"episode_name\"), \n",
    "     tfe.episode_id, \n",
    "     te.season]).sort_by(\"episode_id\")"
   ]
  },
  {
   "cell_type": "code",
   "execution_count": null,
   "metadata": {},
   "outputs": [],
   "source": [
    "itview(tnew)"
   ]
  },
  {
   "cell_type": "markdown",
   "metadata": {},
   "source": [
    "# Filtering Data (`filter`/ SQL WHERE)\n",
    "\n",
    "Now that we know how to put things together, we need to look at how to keep the parts we are interested in and discarding the rest. In Ibis this is [`filtering`](https://docs.ibis-project.org/notebooks/tutorial/2-Basics-Aggregate-Filter-Limit.html#Filtering) (corresponding to [`WHERE`](https://bit.ly/2Nv927e) in SQL).\n",
    "\n",
    "We execute a filter by passing a list of expressions that evaluate to True or False.\n",
    "\n",
    "__*Very Important Note*__: In Python if I want to ask if two things are equal, the symbol is __`==`__. A single __`=`__ is an assignment statement, not a question about equality.\n",
    "\n",
    "#### Example\n",
    "\n",
    "Select all the rows that include `Junkfood`"
   ]
  },
  {
   "cell_type": "code",
   "execution_count": null,
   "metadata": {},
   "outputs": [],
   "source": [
    "itview(tnew.filter([tnew.food_category == \"Junkfood\"]))"
   ]
  },
  {
   "cell_type": "code",
   "execution_count": null,
   "metadata": {},
   "outputs": [],
   "source": [
    "itview(tnew.filter([tnew.food_category == \"Junkfood\",\n",
    "                    tnew.season < 6]))"
   ]
  },
  {
   "cell_type": "markdown",
   "metadata": {},
   "source": [
    "### More Filters\n",
    "\n",
    "This dataset is relatively simple in that there are only two types of data:\n",
    "\n",
    "- Integers (e.g. `episode_id`, `season`)\n",
    "- Strings (e.g. `food_name`, `food_category`)\n",
    "\n",
    "Filtering with integers is straightroward (e.g. ==, >, <)\n",
    "\n",
    "Filtering with strings is more complex.\n",
    "\n",
    "#### Filtering with Strings: Partial Matching\n",
    "\n",
    "- __Strings are case sensitive:__ \"Mint\" is not equal to \"mint\"\n",
    "    - __Tip__: Consider convert everything to uppercase or lowercase\n",
    "- __Pattern Matching:__ A variety of options here\n",
    "    - `contains()`\n",
    "        - Does the string contain the \n",
    "    - `like`\n",
    "        - This uses wildcard matches: \n",
    "            - **_** matches any one character\n",
    "            - __%__ matches any one OR MORE character(s)\n",
    "    - `rlike`\n",
    "        - This uses regular expressions. Regular expressions are VERY powerful and VERY trick and so VERY frustrating\n",
    "        - For those who are interested, I'll provide regular expression  materials later."
   ]
  },
  {
   "cell_type": "markdown",
   "metadata": {},
   "source": [
    "#### Example: Finding Minty Foods"
   ]
  },
  {
   "cell_type": "code",
   "execution_count": null,
   "metadata": {},
   "outputs": [],
   "source": [
    "tnew.filter([tnew.food_name.contains(\"mint\")]).execute()"
   ]
  },
  {
   "cell_type": "code",
   "execution_count": null,
   "metadata": {},
   "outputs": [],
   "source": [
    "tnew.filter([tnew.food_name.lower().contains(\"mint\")]).execute()"
   ]
  },
  {
   "cell_type": "markdown",
   "metadata": {},
   "source": [
    "#### Example: Like\n",
    "\n",
    "Find all foods that start with \"P\" in season 5."
   ]
  },
  {
   "cell_type": "code",
   "execution_count": null,
   "metadata": {},
   "outputs": [],
   "source": [
    "tnew.filter([tnew.food_name.like(\"P%\"),tnew.season==5]).execute()"
   ]
  },
  {
   "cell_type": "markdown",
   "metadata": {},
   "source": [
    "### Negating Filters\n",
    "\n",
    "- You can negate a filter by prepending it with a negative sign (__-__)"
   ]
  },
  {
   "cell_type": "code",
   "execution_count": null,
   "metadata": {},
   "outputs": [],
   "source": [
    "tnew.filter([-tnew.food_name.like(\"P%\"),tnew.season==5]).execute()"
   ]
  },
  {
   "cell_type": "markdown",
   "metadata": {},
   "source": [
    "### Introducing `count`\n",
    "\n",
    "Often times we just want to see how many rows there are that match a condition.\n",
    "\n",
    "Ibis provides a `count` method that will count the number of resuslting rows.\n",
    "\n",
    "So what if we want to count the number of foods with a capital `P`."
   ]
  },
  {
   "cell_type": "code",
   "execution_count": null,
   "metadata": {},
   "outputs": [],
   "source": [
    "tnew.filter([tnew.food_name.like(\"%P%\"),tnew.season==5]).count().execute()"
   ]
  },
  {
   "cell_type": "markdown",
   "metadata": {},
   "source": [
    "### What if we want to see how many `p`s there are, upper or lower?\n",
    "\n",
    "Remember we have the `upper` and `lower` methods to convert strings to uppercase or lowercase."
   ]
  },
  {
   "cell_type": "code",
   "execution_count": null,
   "metadata": {},
   "outputs": [],
   "source": [
    "tnew.filter([tnew.food_name.upper().like(\"%P%\"),tnew.season==5]).count().execute()"
   ]
  },
  {
   "cell_type": "code",
   "execution_count": null,
   "metadata": {},
   "outputs": [],
   "source": [
    "for w in create_question_bank(\"day1_bec.yaml\", tag=\"ibis, food, case\"):\n",
    "    display(w)"
   ]
  },
  {
   "cell_type": "markdown",
   "metadata": {},
   "source": [
    "### `AND` and `OR`\n",
    "\n",
    "Providing multiple filters acts like a logical `AND`:\n",
    "\n",
    "\"Show me all the rows where `food_name` has a `P` __AND__ the eposide is in season 6.\"\n",
    "\n",
    "So if I provide two mutually exclusive filters, I will get no results.\n",
    "\n",
    "\"Show me all the rows where an episode is in season 5 __AND__ the episode is in season 6.\""
   ]
  },
  {
   "cell_type": "code",
   "execution_count": null,
   "metadata": {},
   "outputs": [],
   "source": [
    "tnew.filter([tnew.season==5,tnew.season==6]).execute()"
   ]
  },
  {
   "cell_type": "markdown",
   "metadata": {},
   "source": [
    "### `OR` in Ibis\n",
    "\n",
    "- An OR question is something like:\n",
    " - \"Show me all the rows where there is a food name with a `P` and the episode is in season 5 __OR__ in season 6.\n",
    "\n",
    "- I can create an `OR` with the symbol __`|`__.\n",
    "    - There is a similar `AND` operator: `&`\n",
    "\n",
    "__NOTE__: I had to wrap each question for the OR in parentheses so that the `|` operator didn't try to apply to the number 5 and `tnew.season`.\n",
    "\n"
   ]
  },
  {
   "cell_type": "code",
   "execution_count": null,
   "metadata": {},
   "outputs": [],
   "source": []
  },
  {
   "cell_type": "code",
   "execution_count": null,
   "metadata": {},
   "outputs": [],
   "source": [
    "tnew.filter([tnew.food_name.like(\"%P%\"),(tnew.season==5) | (tnew.season==6)]).execute()"
   ]
  },
  {
   "cell_type": "markdown",
   "metadata": {},
   "source": [
    "If I pass a list of conditions to `like` this acts like an __OR__"
   ]
  },
  {
   "cell_type": "code",
   "execution_count": null,
   "metadata": {},
   "outputs": [],
   "source": [
    "tnew.filter([tnew.food_name.like([\"%Pepsi%\", \"%Cola%\"])]).execute()"
   ]
  },
  {
   "cell_type": "code",
   "execution_count": null,
   "metadata": {},
   "outputs": [],
   "source": [
    "for w in create_question_bank(\"day1_bec.yaml\", tag=\"ibis,food,like\"):\n",
    "    display(w)\n"
   ]
  },
  {
   "cell_type": "markdown",
   "metadata": {},
   "source": [
    "## Getting Distinct/Unique Values\n",
    "\n",
    "Remember that in relational databases, we are aiming for at least 1st normal form: one distince value in each cell. So in our results we often have multiple rows with the same episode or the same food. What if we want to count the number of episodes that mention pie? Then we can use the `distinct` method."
   ]
  },
  {
   "cell_type": "code",
   "execution_count": null,
   "metadata": {},
   "outputs": [],
   "source": [
    "tnew.filter(tnew.food_name.like(\"%pie%\")).episode_id.distinct().execute()"
   ]
  },
  {
   "cell_type": "code",
   "execution_count": null,
   "metadata": {},
   "outputs": [],
   "source": [
    "tnew.filter([tnew.food_name.like(\"%P%\"),(tnew.season==5) | (tnew.season==6)]).episode_id.distinct().count().execute()"
   ]
  },
  {
   "cell_type": "markdown",
   "metadata": {},
   "source": [
    "## Missing Values\n",
    "\n",
    "When we execute an Ibis query, it returns a Pandas dataframe. In Pandas `NaN` indicates a missing value. In this data set,the _Pilot_, the very first episode of the TV show is not in a season so the `season` value is `NaN`."
   ]
  },
  {
   "cell_type": "code",
   "execution_count": null,
   "metadata": {},
   "outputs": [],
   "source": [
    "tnew.execute(limit=5)"
   ]
  },
  {
   "cell_type": "markdown",
   "metadata": {},
   "source": [
    "### `notnull`\n",
    "\n",
    "Ibis provides a `notnull` method that allows us to filter by out missing values."
   ]
  },
  {
   "cell_type": "code",
   "execution_count": null,
   "metadata": {},
   "outputs": [],
   "source": [
    "tnew.filter([tnew.food_category==\"Drinks\", tnew.season.notnull()]).sort_by(\"food_name\").execute()"
   ]
  },
  {
   "cell_type": "code",
   "execution_count": null,
   "metadata": {},
   "outputs": [],
   "source": [
    "tnew.filter([tnew.season.notnull()]).sort_by(\"food_name\").execute(limit=10)"
   ]
  },
  {
   "cell_type": "markdown",
   "metadata": {},
   "source": [
    "## Practice"
   ]
  },
  {
   "cell_type": "code",
   "execution_count": null,
   "metadata": {},
   "outputs": [],
   "source": [
    "for w in create_question_bank(\"day1_bec.yaml\", tag=\"ibis,practice\"):\n",
    "    display(w)"
   ]
  },
  {
   "cell_type": "code",
   "execution_count": null,
   "metadata": {},
   "outputs": [],
   "source": []
  }
 ],
 "metadata": {
  "kernelspec": {
   "display_name": "Python 3",
   "language": "python",
   "name": "python3"
  },
  "language_info": {
   "codemirror_mode": {
    "name": "ipython",
    "version": 3
   },
   "file_extension": ".py",
   "mimetype": "text/x-python",
   "name": "python",
   "nbconvert_exporter": "python",
   "pygments_lexer": "ipython3",
   "version": "3.7.6"
  }
 },
 "nbformat": 4,
 "nbformat_minor": 4
}
