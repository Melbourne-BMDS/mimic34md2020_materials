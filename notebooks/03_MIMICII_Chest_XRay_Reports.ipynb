{
 "cells": [
  {
   "cell_type": "code",
   "execution_count": null,
   "metadata": {},
   "outputs": [],
   "source": [
    "import pymysql\n",
    "import pandas as pd\n",
    "import getpass\n",
    "\n",
    "import re\n",
    "import scipy\n",
    "import matplotlib.pyplot as plt\n",
    "import ipywidgets\n",
    "from IPython.display import display, HTML\n",
    "from IPython.html.widgets import interact, interactive, fixed\n",
    "from sqlalchemy import create_engine\n",
    "#from gensim.parsing.preprocessing import STOPWORDS\n",
    "from collections import Counter\n",
    "import numpy as np\n",
    "import scipy.stats\n",
    "import ibis\n",
    "from cdsutils.mutils import *\n",
    "from cdsutils.mysql import *\n",
    "%matplotlib inline"
   ]
  },
  {
   "cell_type": "markdown",
   "metadata": {},
   "source": [
    "## Set up our MySQL connection with SQL Alchemy (this helps us to read directly into Pandas DataFrames"
   ]
  },
  {
   "cell_type": "code",
   "execution_count": null,
   "metadata": {},
   "outputs": [],
   "source": [
    "conn = pymysql.connect(host=\"35.233.174.193\",port=3306,\n",
    "                           user=getpass.getpass(\"Enter username for MIMIC2 database\"),\n",
    "                           passwd=getpass.getpass(\"Enter password for MIMIC2 database\"),\n",
    "                           db='mimic2')"
   ]
  },
  {
   "cell_type": "code",
   "execution_count": null,
   "metadata": {},
   "outputs": [],
   "source": [
    "iconn = get_mimic_connection()"
   ]
  },
  {
   "cell_type": "markdown",
   "metadata": {},
   "source": [
    "## Before we move ahead, we will do some counts of patients, admissions and notes to ensure connectivity and also get a sense of the dataset"
   ]
  },
  {
   "cell_type": "code",
   "execution_count": null,
   "metadata": {},
   "outputs": [],
   "source": [
    "display(pd.read_sql_query('SELECT count(*) as PatientCount from d_patients', conn))\n",
    "display(pd.read_sql_query('SELECT count(*) as AdmissionCount from admissions', conn))\n",
    "display(pd.read_sql_query('SELECT count(*) as NoteCount from noteevents', conn))"
   ]
  },
  {
   "cell_type": "code",
   "execution_count": null,
   "metadata": {},
   "outputs": [],
   "source": [
    "iconn.table(\"d_patients\").count().execute()"
   ]
  },
  {
   "cell_type": "markdown",
   "metadata": {},
   "source": [
    "## MIMIC-II (and MIMIC-III) has tables for Admissions, ICD-9 codes, notes and many other pieces of data"
   ]
  },
  {
   "cell_type": "code",
   "execution_count": null,
   "metadata": {},
   "outputs": [],
   "source": [
    "display(pd.read_sql_query('SELECT * from admissions LIMIT 5', conn))"
   ]
  },
  {
   "cell_type": "code",
   "execution_count": null,
   "metadata": {},
   "outputs": [],
   "source": [
    "display(pd.read_sql_query('SELECT * from icd9 LIMIT 5', conn))"
   ]
  },
  {
   "cell_type": "code",
   "execution_count": null,
   "metadata": {},
   "outputs": [],
   "source": [
    "display(pd.read_sql_query('SELECT * from noteevents LIMIT 5', conn))"
   ]
  },
  {
   "cell_type": "code",
   "execution_count": null,
   "metadata": {},
   "outputs": [],
   "source": [
    "# now let's get a frame of Patient/Admit/Pneumonia\n",
    "pneumonia_query = \"\"\"\n",
    "    SELECT \n",
    "a.subject_id\n",
    ",a.hadm_id\n",
    ",a.admit_dt\n",
    ",(CASE WHEN pneu.HADM_ID IS NOT NULL THEN 1 ELSE 0 END) as Encounter_Pneumonia_Diagnosis\n",
    "FROM admissions a\n",
    "LEFT JOIN \n",
    "(\n",
    "    SELECT\n",
    "    d.HADM_ID\n",
    "    FROM  icd9 d\n",
    "    WHERE \n",
    "        (code like '486%%')\n",
    "    GROUP BY d.HADM_ID\n",
    ") pneu\n",
    "ON a.HADM_ID = pneu.HADM_ID\n",
    "\"\"\"\n",
    "pat_admit_pneumonia_df = pd.read_sql_query(pneumonia_query, conn)\n",
    "display(pat_admit_pneumonia_df)"
   ]
  },
  {
   "cell_type": "code",
   "execution_count": null,
   "metadata": {},
   "outputs": [],
   "source": [
    "# let's get a count of how many PNEUMONIA vs NO-PNEUMONIA admits we have\n",
    "pneumonia_admit_count_df = pat_admit_pneumonia_df.groupby('Encounter_Pneumonia_Diagnosis').size()\n",
    "display(pneumonia_admit_count_df)"
   ]
  },
  {
   "cell_type": "code",
   "execution_count": null,
   "metadata": {},
   "outputs": [],
   "source": [
    "# before pulling note text, let's get a distribution of how many RADIOLOGY reports\n",
    "# typically exist per admission\n",
    "visit_rad_report_count_query = \"\"\"\n",
    "SELECT\n",
    "n.hadm_id\n",
    ",count(*) as rad_note_count\n",
    "FROM d_patients p\n",
    "INNER JOIN noteevents n\n",
    "    ON n.subject_id = p.subject_id\n",
    "WHERE \n",
    "    Category = 'RADIOLOGY_REPORT' \n",
    "    AND (text like '%%CHEST (PORTABLE AP)%%' OR text like '%%CHEST (PA & LAT)%%')\n",
    "    AND n.hadm_id IS NOT NULL\n",
    "GROUP BY n.hadm_id\n",
    "ORDER BY count(*) DESC\n",
    "\"\"\"\n",
    "visit_rad_report_count_df = pd.read_sql_query(visit_rad_report_count_query, conn)\n",
    "display(visit_rad_report_count_df.head(10))"
   ]
  },
  {
   "cell_type": "markdown",
   "metadata": {},
   "source": [
    "## Scipy had useful methods for describing distributions like our count of chest x-rays per encounter"
   ]
  },
  {
   "cell_type": "code",
   "execution_count": null,
   "metadata": {},
   "outputs": [],
   "source": [
    "rad_note_counts = visit_rad_report_count_df['rad_note_count'].values\n",
    "scipy.stats.describe(rad_note_counts)"
   ]
  },
  {
   "cell_type": "markdown",
   "metadata": {},
   "source": [
    "## Notes in MIMIC have a category (e.g. \"RADIOLOGY_REPORT\") and within the text there are often \"sub categories\" on the second line of the file.  Pulling the appropriate sub categories as a few \"like\" statements does the job, but it is worth looking at some of these on your own"
   ]
  },
  {
   "cell_type": "code",
   "execution_count": null,
   "metadata": {},
   "outputs": [],
   "source": [
    "# before pulling note text, let's get a distribution of how many RADIOLOGY reports\n",
    "# typically exist per admission\n",
    "visit_rad_report_count_query = \"\"\"\n",
    "SELECT\n",
    "n.hadm_id\n",
    ",count(*) as rad_note_count\n",
    "FROM d_patients p\n",
    "INNER JOIN noteevents n\n",
    "    ON n.subject_id = p.subject_id\n",
    "WHERE \n",
    "    Category = 'RADIOLOGY_REPORT' \n",
    "    AND (text like '%%CHEST (PORTABLE AP)%%' OR text like '%%CHEST (PA & LAT)%%')\n",
    "    AND n.hadm_id IS NOT NULL\n",
    "GROUP BY n.hadm_id\n",
    "ORDER BY count(*) DESC\n",
    "\"\"\"\n",
    "visit_rad_report_count_df = pd.read_sql_query(visit_rad_report_count_query, conn)\n",
    "display(visit_rad_report_count_df)"
   ]
  },
  {
   "cell_type": "markdown",
   "metadata": {},
   "source": [
    "## Some patients have only one radiology report but several have multiple.  This graph looks at that distribution"
   ]
  },
  {
   "cell_type": "code",
   "execution_count": null,
   "metadata": {},
   "outputs": [],
   "source": [
    "rad_note_count_grouping = visit_rad_report_count_df.groupby('rad_note_count').size()\n",
    "#display(rad_note_count_grouping)\n",
    "\n",
    "note_count_bins = rad_note_count_grouping.index.values\n",
    "#print(note_count_bins)\n",
    "note_frequencies = rad_note_count_grouping.values\n",
    "#print(note_frequencies)\n",
    "\n",
    "fig = plt.figure(figsize=(16, 8))\n",
    "\n",
    "plt.xlabel('Total Radiology Chest X-Ray Notes per visit')\n",
    "plt.ylabel('Total Visits')\n",
    "\n",
    "plt.bar(note_count_bins, note_frequencies)"
   ]
  },
  {
   "cell_type": "markdown",
   "metadata": {},
   "source": [
    "## We can then can pull these notes into a frame"
   ]
  },
  {
   "cell_type": "code",
   "execution_count": null,
   "metadata": {},
   "outputs": [],
   "source": [
    "# now let's pull a frame of all the FIRST (sorted by text which begins with date) CHEST X-RAY notes\n",
    "chest_xray_note_query = \"\"\"\n",
    "SELECT\n",
    "subject_id\n",
    ",hadm_id\n",
    ",LTRIM(RTRIM(text)) as text\n",
    "FROM noteevents\n",
    "WHERE category = 'RADIOLOGY_REPORT'\n",
    "    AND (text like '%%CHEST (PORTABLE AP)%%' OR text like '%%CHEST (PA & LAT)%%')\n",
    "    AND subject_id is not NULL\n",
    "    AND hadm_id is not NULL\n",
    "GROUP BY subject_id, hadm_id, text\n",
    "\"\"\"\n",
    "chest_xray_note_df = pd.read_sql_query(chest_xray_note_query, conn)\n",
    "display(chest_xray_note_df.head(10))"
   ]
  },
  {
   "cell_type": "markdown",
   "metadata": {},
   "source": [
    "## Much like a SQL \"join\" we can combine our frame which has ICD-9 codes with the frame that has notes so that we can sample from these intelligently"
   ]
  },
  {
   "cell_type": "code",
   "execution_count": null,
   "metadata": {},
   "outputs": [],
   "source": [
    "pneumonia_note_df = pd.merge(pat_admit_pneumonia_df, chest_xray_note_df, on = ['subject_id', 'hadm_id'])\n",
    "display(pneumonia_note_df.head(20))"
   ]
  },
  {
   "cell_type": "markdown",
   "metadata": {},
   "source": [
    "## We sampled notes where the encounter was coded for Pneumonia (ICD-9 code 486.* ) and where it was not coded.  We performed stratified sampling of one percentage of notes from one and the remainder from the other.  We won't show that, but this is how we set up the group project"
   ]
  },
  {
   "cell_type": "code",
   "execution_count": null,
   "metadata": {},
   "outputs": [],
   "source": [
    "pneumonia_note_count_df = pneumonia_note_df.groupby('Encounter_Pneumonia_Diagnosis').size()\n",
    "display(pneumonia_note_count_df)"
   ]
  },
  {
   "cell_type": "code",
   "execution_count": null,
   "metadata": {},
   "outputs": [],
   "source": [
    "# now let's list out some of the notes where Pneumonia WAS diagnosed\n",
    "pneumonia_positive_notes = pneumonia_note_df[pneumonia_note_df['Encounter_Pneumonia_Diagnosis'] == 1]['text'].head(1).values\n",
    "for note in pneumonia_positive_notes:\n",
    "    print(note)\n",
    "    #sys.stdout.write(note)"
   ]
  },
  {
   "cell_type": "code",
   "execution_count": null,
   "metadata": {},
   "outputs": [],
   "source": [
    "# now let's list out some of the notes where Pneumonia WAS diagnosed\n",
    "pneumonia_negative_notes = pneumonia_note_df[pneumonia_note_df['Encounter_Pneumonia_Diagnosis'] == 0]['text'].head(1).values\n",
    "with open(\"notes.txt\", \"w\") as f0:\n",
    "    for note in pneumonia_negative_notes:\n",
    "        #print(note)\n",
    "        f0.write(note)"
   ]
  },
  {
   "cell_type": "markdown",
   "metadata": {},
   "source": [
    "## We can use a widgets to be able to drag back and forth between the set to display them easily"
   ]
  },
  {
   "cell_type": "code",
   "execution_count": null,
   "metadata": {},
   "outputs": [],
   "source": [
    "# This function let's us iterate through all documents and view the markup\n",
    "def view_documents(reports):\n",
    "    @interact(i=ipywidgets.IntSlider(min=0, max=len(reports)-1))\n",
    "    def _view_document(i):\n",
    "        report_html = reports[i].replace('\\n', '<br>')\n",
    "        \n",
    "        display(HTML(report_html))\n",
    "        \n",
    "chest_xray_list = list(chest_xray_note_df['text'].values)\n",
    "view_documents(chest_xray_list)"
   ]
  },
  {
   "cell_type": "markdown",
   "metadata": {},
   "source": [
    "## It be useful to use these chest x-ray radiology reports to get an idea of some of the language in these reports\n",
    "\n",
    "## For example, let's look at what kinds of words and counts we see in this dataset"
   ]
  },
  {
   "cell_type": "code",
   "execution_count": null,
   "metadata": {
    "jupyter": {
     "outputs_hidden": true
    }
   },
   "outputs": [],
   "source": [
    "%%time \n",
    "\n",
    "MAX_REPORTS_FOR_WORD_COUNT = 50\n",
    "\n",
    "# let's start by collecting words from all texts\n",
    "chest_xray_words = []\n",
    "STOPWORDS= frozenset([w.upper() for w in STOPWORDS])\n",
    "sampled_xray_list = chest_xray_list[:MAX_REPORTS_FOR_WORD_COUNT]\n",
    "for text in sampled_xray_list:\n",
    "    words = TextBlob(text.lower()).words\n",
    "    # extend() adds all elements from another list \n",
    "    chest_xray_words.extend(words)"
   ]
  },
  {
   "cell_type": "code",
   "execution_count": null,
   "metadata": {
    "jupyter": {
     "outputs_hidden": true
    }
   },
   "outputs": [],
   "source": [
    "chest_xray_word_set = set(chest_xray_words)\n",
    "print('Total unique words in Chest X-ray reports : {0}'.format(len(chest_xray_word_set)))"
   ]
  },
  {
   "cell_type": "code",
   "execution_count": null,
   "metadata": {
    "jupyter": {
     "outputs_hidden": true
    }
   },
   "outputs": [],
   "source": [
    "# and then we can see the most common words in this set of documents\n",
    "Counter(chest_xray_words).most_common(30)"
   ]
  },
  {
   "cell_type": "code",
   "execution_count": null,
   "metadata": {
    "jupyter": {
     "outputs_hidden": true
    }
   },
   "outputs": [],
   "source": []
  },
  {
   "cell_type": "markdown",
   "metadata": {},
   "source": [
    "<br/><br/>This material presented as part of the DeCART Data Science for the Health Science Summer Program at the University of Utah in 2017.<br/>\n",
    "Presenters : Dr. Wendy Chapman, Jianlin Shi and Kelly Peterson"
   ]
  }
 ],
 "metadata": {
  "kernelspec": {
   "display_name": "Python 3",
   "language": "python",
   "name": "python3"
  },
  "language_info": {
   "codemirror_mode": {
    "name": "ipython",
    "version": 3
   },
   "file_extension": ".py",
   "mimetype": "text/x-python",
   "name": "python",
   "nbconvert_exporter": "python",
   "pygments_lexer": "ipython3",
   "version": "3.7.6"
  }
 },
 "nbformat": 4,
 "nbformat_minor": 4
}
