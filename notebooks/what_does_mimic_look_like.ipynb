{
 "cells": [
  {
   "cell_type": "markdown",
   "metadata": {},
   "source": [
    "# A Quick Look at the MIMIC III Data Set\n",
    "\n"
   ]
  },
  {
   "cell_type": "code",
   "execution_count": null,
   "metadata": {
    "deletable": true
   },
   "outputs": [],
   "source": [
    "import warnings\n",
    "warnings.simplefilter(\"ignore\")\n",
    "from cdsutils.mutils import *\n",
    "from cdsutils.pg import *\n",
    "#from dminteract.modules.m5 import *\n",
    "import numpy as np\n",
    "import numpy.random as ra\n",
    "import ipywidgets as ipw\n",
    "from getpass import getpass"
   ]
  },
  {
   "cell_type": "markdown",
   "metadata": {},
   "source": [
    "MIMIC III data are stored in a relational database. This is not an exploration of relational database theory or data modeling, but here is my novice quick description.\n",
    "\n",
    "* Relational databases seek to achieve accurate data representation by eliminating (reducing)  data redundancies and thus the opportunities for data inconsistencies.\n",
    "\n",
    "This is achieved by splitting data across **tables** and then **joining** the data back together when required."
   ]
  },
  {
   "cell_type": "markdown",
   "metadata": {},
   "source": [
    "### First we need to generate a connection to the MIMIC database\n",
    "\n",
    "As you work through this notebook, you might occasionally get an error that looks something like this (although much longer):\n",
    "\n",
    "```Python\n",
    "OperationalError: (psycopg2.OperationalError) server closed the connection unexpectedly\n",
    "\tThis probably means the server terminated abnormally\n",
    "\tbefore or while processing the request.\n",
    "\n",
    "```\n",
    "\n",
    "This just means that the connection with the database has timed out. All you need to do is come back up here and rerun the code below to get a new database connection."
   ]
  },
  {
   "cell_type": "code",
   "execution_count": null,
   "metadata": {},
   "outputs": [],
   "source": [
    "conn = ibis.postgres.connect(\n",
    "    user=input(\"under your University of Melbourne username\"),\n",
    "    password=getpass(\"enter your password provided by Brian (not your physionet password and not your University of Melbourne password)\"),\n",
    "    host='agsfczqlcan.db.cloud.edu.au',\n",
    "    port=5432,\n",
    "    database='mimic')"
   ]
  },
  {
   "cell_type": "code",
   "execution_count": null,
   "metadata": {
    "deletable": true,
    "editable": true
   },
   "outputs": [],
   "source": [
    "schema= \"mimiciii\"\n",
    "# ibis.options.interactive = True"
   ]
  },
  {
   "cell_type": "markdown",
   "metadata": {
    "deletable": true,
    "editable": true
   },
   "source": [
    "## Let's take a look at the tables\n",
    "\n",
    ">Before you can do anything, you have to understand tables. If you don't have a table, you have nothing to work on. The table is the standard unit of information in a relational database. Everything revolves around tables. Tables are composed of rows and columns. And while that sounds simple, the sad truth is that tables are not simple. (*The Definitive Guide to SQLite*, p. 80 [owens2006definitive})\n",
    "\n",
    "\n",
    "Since I said data are split across tables, let's look at the tables in the MIMIC II demo database.\n",
    "\n",
    "### Take a look at the Tables in the Database"
   ]
  },
  {
   "cell_type": "code",
   "execution_count": null,
   "metadata": {
    "deletable": true
   },
   "outputs": [],
   "source": [
    "HTML(dlist(conn.list_tables(schema=schema), ncols=7, sort=True))"
   ]
  },
  {
   "cell_type": "markdown",
   "metadata": {},
   "source": [
    "`chartevents` is where the vast majority of data in MIMIC III is contained. Consequently, PostgreSql implements this table using a [partioned design](https://www.postgresql.org/docs/12/ddl-partitioning.html). This clutters are view somewhat, so let's use some python to clean up our view by excluding the pieces `chartevents` is split into."
   ]
  },
  {
   "cell_type": "code",
   "execution_count": null,
   "metadata": {},
   "outputs": [],
   "source": [
    "ta = conn.table(\"admissions\", schema=schema)\n",
    "ta.admission_type.distinct().execute()"
   ]
  },
  {
   "cell_type": "code",
   "execution_count": null,
   "metadata": {},
   "outputs": [],
   "source": [
    "HTML(dlist([t for t in conn.list_tables(schema=schema) if \"chartevents_\" not in t], \n",
    "           ncols=6, sort=True))"
   ]
  },
  {
   "cell_type": "markdown",
   "metadata": {
    "deletable": true,
    "editable": true
   },
   "source": [
    "## MIMIC III is well documented\n",
    "\n",
    "- You can read about each table [here](https://mimic.physionet.org/mimictables/).\n",
    "\n",
    "- As an example we can look at [microbiologyevents](https://mimic.physionet.org/mimictables/microbiologyevents/)"
   ]
  },
  {
   "cell_type": "markdown",
   "metadata": {
    "deletable": true,
    "editable": true
   },
   "source": [
    "## What are in the tables?\n",
    "### Ibis Provides two ways to see the definitions of each table\n",
    "\n",
    "1. `info()`\n",
    "1. `schema()1\n",
    "#### `info`"
   ]
  },
  {
   "cell_type": "code",
   "execution_count": null,
   "metadata": {},
   "outputs": [],
   "source": [
    "t = conn.table(\"icustays\", schema=schema)\n",
    "t.info()\n"
   ]
  },
  {
   "cell_type": "markdown",
   "metadata": {},
   "source": [
    "This is fairly ugly output, but tells us quite a bit about the table\n",
    "\n",
    "- `Column`: This is the column name\n",
    "- `Type`: This provides two pieces of information\n",
    "    - The data type used to represent the data (e.g. `int32` (a 32 bit integer)\n",
    "    - Whether the value is `nullable` (can be missing)\n",
    "        - Example: `row_id` is represented with a 32 bit integer and CANNOT be missing\n",
    "        - Example: `outtime` is represented with a `TimeStamp` and CAN be missing\n",
    "- `Non-NULL #`: The number of rows in the table with non-NULL values for that column"
   ]
  },
  {
   "cell_type": "markdown",
   "metadata": {},
   "source": [
    "#### `schema()`\n",
    "\n",
    "`schema()` returns a dictionary-like object that provides the column names and the data tuype for the column, but does not provide any information about whether the value can be missing or not."
   ]
  },
  {
   "cell_type": "code",
   "execution_count": null,
   "metadata": {},
   "outputs": [],
   "source": [
    "view_dict(t.schema())"
   ]
  },
  {
   "cell_type": "code",
   "execution_count": null,
   "metadata": {},
   "outputs": [],
   "source": [
    "view_table(\"diagnoses_icd\", conn)"
   ]
  },
  {
   "cell_type": "markdown",
   "metadata": {
    "deletable": true,
    "editable": true
   },
   "source": [
    "### Take a look at [`patients`](https://mimic.physionet.org/mimictables/patients/)\n",
    "\n"
   ]
  },
  {
   "cell_type": "code",
   "execution_count": null,
   "metadata": {},
   "outputs": [],
   "source": [
    "view_table(\"patients\", conn)"
   ]
  },
  {
   "cell_type": "markdown",
   "metadata": {},
   "source": [
    "The [documentation](https://mimic.physionet.org/mimictables/patients/) tell us that this table links to `admission` and `icustays` vis the  `subject_id` value.\n",
    "\n",
    "There are three different date of death columns. You can read about the differences and decide which value you would want to use.\n",
    "\n",
    "- `NaT` represents a __missing time__.\n",
    "- `gender`: `GENDER is the genotypical sex of the patient`\n",
    "\n",
    "According to the WHO\n",
    "\n",
    ">Humans are born with 46 chromosomes in 23 pairs. The X and Y chromosomes determine a person’s sex. Most women are 46XX and most men are 46XY. Research suggests, however, that in a few births per thousand some individuals will be born with a single sex chromosome (45X or 45Y) (sex monosomies) and some with three or more sex chromosomes (47XXX, 47XYY or 47XXY, etc.) (sex polysomies). In addition, some males are born 46XX due to the translocation of a tiny section of the sex determining region of the Y chromosome. Similarly some females are also born 46XY due to mutations in the Y chromosome. Clearly, there are not only females who are XX and males who are XY, but rather, there is a range of chromosome complements, hormone balances, and phenotypic variations that determine sex. ([\"Gender and Genetics\"](https://www.who.int/genomics/gender/en/index1.html#:~:text=The%20X%20and%20Y%20chromosomes,47XYY%20or%2047XXY%2C%20etc.)))\n",
    "\n",
    "So how many different genders are in the database?\n",
    "\n",
    "We can use the `dictinct` method to get the unique values in a column:"
   ]
  },
  {
   "cell_type": "code",
   "execution_count": null,
   "metadata": {},
   "outputs": [],
   "source": [
    "t_pat = conn.table(\"patients\", schema=schema)\n",
    "t_pat['gender'].distinct().execute(limit=None)"
   ]
  },
  {
   "cell_type": "code",
   "execution_count": null,
   "metadata": {},
   "outputs": [],
   "source": [
    "t_pat.filter([t_pat.gender=='M']).count().execute(limit=None)"
   ]
  },
  {
   "cell_type": "markdown",
   "metadata": {},
   "source": [
    "## How many total patients are there?\n",
    "\n",
    "- `count()` counts the number of rows in the table\n",
    "- A Note about execute: "
   ]
  },
  {
   "cell_type": "code",
   "execution_count": null,
   "metadata": {},
   "outputs": [],
   "source": [
    "t_pat.count().execute(limit=None)"
   ]
  },
  {
   "cell_type": "markdown",
   "metadata": {},
   "source": [
    "### Look at [`admissions`](https://mimic.physionet.org/mimictables/admissions/) "
   ]
  },
  {
   "cell_type": "code",
   "execution_count": null,
   "metadata": {},
   "outputs": [],
   "source": [
    "view_table(\"admissions\", conn)"
   ]
  },
  {
   "cell_type": "markdown",
   "metadata": {},
   "source": [
    "In addition to the admission, and discharge information, this table also contains demographic information."
   ]
  },
  {
   "cell_type": "markdown",
   "metadata": {
    "deletable": true,
    "editable": true
   },
   "source": [
    "### Examine [`prescriptions`](https://mimic.physionet.org/mimictables/prescriptions/)\n",
    "\n",
    "For a patient being given medication (medication event), we would want to know things like who was the medicine given to, who gave it to them, what was the medicine, when was it given, etc.\n",
    "\n",
    "Examining the `prescription` table we an see  the nature of a relational database\n"
   ]
  },
  {
   "cell_type": "code",
   "execution_count": null,
   "metadata": {},
   "outputs": [],
   "source": [
    "t_pre = conn.table(\"prescriptions\", schema=schema)\n",
    "t_pre.info()"
   ]
  },
  {
   "cell_type": "code",
   "execution_count": null,
   "metadata": {
    "deletable": true,
    "editable": true
   },
   "outputs": [],
   "source": [
    "display(view_dict(conn.table(\"prescriptions\", schema=schema).schema()))\n",
    "view_table(\"prescriptions\", conn)"
   ]
  }
 ],
 "metadata": {
  "kernelspec": {
   "display_name": "Python 3",
   "language": "python",
   "name": "python3"
  },
  "language_info": {
   "codemirror_mode": {
    "name": "ipython",
    "version": 3
   },
   "file_extension": ".py",
   "mimetype": "text/x-python",
   "name": "python",
   "nbconvert_exporter": "python",
   "pygments_lexer": "ipython3",
   "version": "3.7.6"
  }
 },
 "nbformat": 4,
 "nbformat_minor": 4
}
