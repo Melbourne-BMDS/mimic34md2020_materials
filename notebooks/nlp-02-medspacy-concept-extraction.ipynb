{
 "cells": [
  {
   "cell_type": "markdown",
   "metadata": {},
   "source": [
    "# Overview\n",
    "As we saw in the last notebook, spaCy doesn't work great for clinical text out of the box. We're interested in extracting different types of information from clinical text than news or Wikipedia articles. Clinical text is also very different from general domain language. \n",
    "- **It is very messy**, with semi-structured formatting from EHR\n",
    "- Clinical documents include **many abbreviations**, some of which are ambiguous\n",
    "- There are **specific tasks** needed in clinical NLP, such as **detecting negation or uncertainty** for concepts in the text\n",
    "\n",
    "One of the most powerful components of spaCy is that is **very customizable**. In addition to working with the default models provided in the core library, you can create your own [custom components](https://spacy.io/usage/processing-pipelines#custom-components) or add your own [extension attributes](https://spacy.io/usage/processing-pipelines#custom-components-attributes). Developers and researchers can then publish their spaCy extensions to the open-source community. Some examples of these openly available libraries are:\n",
    "\n",
    "- [scispacy](https://allenai.github.io/scispacy/): Includes models trained on biomedical literature\n",
    "- [medCAT](https://github.com/CogStack/MedCAT): Models trained for medical concept extraction\n",
    "\n",
    "In the next two notebooks, we'll use [medspacy](https://github.com/medspacy/medspacy), a newly released package for performing clinical NLP tasks in spaCy. \n",
    "\n",
    "# medspacy\n",
    "<img alt=\"MedSpaCy logo\" src=\"https://github.com/medspacy/medspacy/raw/master/images/medspacy_logo.png\">\n",
    "\n",
    "\n",
    "[Medspacy](https://github.com/medspacy/medspacy) is an open-source package maintained by NLP developers at the University of Utah and the US Department of Veterans Affairs. The goal of medSpaCy is to provide flexible, easy-to-use spaCy components for common clinical NLP tasks, such as:\n",
    "\n",
    "- Concept extraction\n",
    "- Negation detection\n",
    "- Document section splitting\n",
    "\n",
    "One of the early uses of medSpaCy includes a [biosurveillance system for identifying positive cases of COVID-19](https://openreview.net/forum?id=ZQ_HvBxcdCv).\n",
    "\n",
    "**MedSpaCy is still in beta**, and you are one of the first users!\n",
    "\n",
    "# How to complete this notebook\n",
    "\n",
    "## YouTube Links\n",
    "Throughout this notebook, we'll provide links to Dr. Wendy Chapman's talk [**\"Developing Clinical Natural Language Processing System\"**](https://youtu.be/UEm7H8cfz80), where she talks about the challenges in clinical NLP and how we can overcome them. We'll then put those ideas into context processing examples of clinical text with medSpaCy.\n",
    "\n",
    "## TODO Exercises\n",
    "Some cells will be marked with **TODO**. Whenever you see this, you'll be asked to complete the following code. Some of the code will be partially completed with `___` as \"fill-in-the-blank\" placeholders. For example, if you see:\n",
    "\n",
    "---\n",
    "### TODO\n",
    "Change the code below to print out **\"Hello, world!\"**\n",
    "```python\n",
    "print(___)\n",
    "```\n",
    "---\n",
    "You should chage the code to:\n",
    "```python\n",
    "print(\"Hello, world!\")\n",
    "```"
   ]
  },
  {
   "cell_type": "markdown",
   "metadata": {},
   "source": [
    "# I. Getting started with medSpaCy\n",
    "Let's get started with medSpaCy. Just like with spaCy, we'll load a model containing a processing pipeline. Unlike the typical spaCy models, this pipeline will include some additional components for specific clinical tasks."
   ]
  },
  {
   "cell_type": "code",
   "execution_count": null,
   "metadata": {},
   "outputs": [],
   "source": [
    "from IPython.display import YouTubeVideo"
   ]
  },
  {
   "cell_type": "code",
   "execution_count": null,
   "metadata": {},
   "outputs": [],
   "source": [
    "import spacy\n",
    "import medspacy"
   ]
  },
  {
   "cell_type": "code",
   "execution_count": null,
   "metadata": {},
   "outputs": [],
   "source": [
    "nlp = medspacy.load()"
   ]
  },
  {
   "cell_type": "code",
   "execution_count": null,
   "metadata": {},
   "outputs": [],
   "source": [
    "nlp.pipe_names"
   ]
  },
  {
   "cell_type": "markdown",
   "metadata": {},
   "source": [
    "For data, we'll use these short example texts:"
   ]
  },
  {
   "cell_type": "code",
   "execution_count": null,
   "metadata": {},
   "outputs": [],
   "source": [
    "texts = [\n",
    "    \"Patient presents for management of Type II Diabetes Mellitus\",\n",
    "    \"No evidence of pneumonia\",\n",
    "    \"Past medical history significant for afib, CHF, and CKD Stage 3, now CKD stage five.\",\n",
    "    \"Mother with breast cancer\",\n",
    "    \"continue metformin for type 2 dm\",\n",
    "    \"Her grandma was recently diagnosed with Alzheimer's\"\n",
    "]"
   ]
  },
  {
   "cell_type": "markdown",
   "metadata": {},
   "source": [
    "### Discussion\n",
    "What information would be useful to extract from these texts? What processing steps do you need to take?"
   ]
  },
  {
   "cell_type": "markdown",
   "metadata": {},
   "source": [
    "# II. Concept extraction\n",
    "The first step we'll take is to define the **target concepts** we're interested in. In the previous notebook, spaCy extracted concepts like **\"PERSON\"** and **\"ORG\"**. In this notebook, we'll extract the following labels:\n",
    "- **\"PROBLEM\"**\n",
    "- **\"TREATMENT\"**\n",
    "- **\"TEST\"**\n",
    "\n",
    "We'll start by building a **rule-based system**. In rule-based NLP, we define patterns to match concepts in text. SpaCy offers many [rule-based methods](https://spacy.io/usage/rule-based-matching). MedSpaCy uses a pipeline component called `TargetMatcher` and rules defined by a class called `TargetRule`. Extracted concepts will be stored as `Span` objects in `doc.ents`.\n",
    "\n",
    "We can access the target matcher through the `get_pipe()` method:"
   ]
  },
  {
   "cell_type": "code",
   "execution_count": null,
   "metadata": {},
   "outputs": [],
   "source": [
    "target_matcher = nlp.get_pipe(\"target_matcher\")\n",
    "target_matcher"
   ]
  },
  {
   "cell_type": "code",
   "execution_count": null,
   "metadata": {},
   "outputs": [],
   "source": [
    "# Import class for defining rules\n",
    "from medspacy.ner import TargetRule"
   ]
  },
  {
   "cell_type": "markdown",
   "metadata": {},
   "source": [
    "Target rules require two positional arguments:\n",
    "- `literal`: A span of text to match in the text (case insensitive)\n",
    "- `category`: The label to assign to extracted concepts\n",
    "\n",
    "Let's define rules to extract any relevant clinical concepts in the texts above.\n"
   ]
  },
  {
   "cell_type": "code",
   "execution_count": null,
   "metadata": {},
   "outputs": [],
   "source": [
    "target_rules = [\n",
    "    TargetRule(\"pneumonia\", \"PROBLEM\"),\n",
    "    TargetRule(\"afib\", \"PROBLEM\"),\n",
    "    TargetRule(\"CHF\", \"PROBLEM\"),\n",
    "    TargetRule(\"Breast Cancer\", \"PROBLEM\"),\n",
    "    TargetRule(\"Alzheimer's\", \"PROBLEM\"),\n",
    "    TargetRule(\"metformin\", \"TREATMENT\"),\n",
    "]"
   ]
  },
  {
   "cell_type": "markdown",
   "metadata": {},
   "source": [
    "We then add these rules to our target matcher:"
   ]
  },
  {
   "cell_type": "code",
   "execution_count": null,
   "metadata": {},
   "outputs": [],
   "source": [
    "target_matcher.add(target_rules)"
   ]
  },
  {
   "cell_type": "markdown",
   "metadata": {},
   "source": [
    "The simplest form of string-matching in spaCy is just exact strings to match, as shown above. However, we can also add more complex patterns to match concepts with varying form. For example, the same or similar concepts can be mentioned in multiple formats:\n",
    "- **\"Type II Diabetes Mellitus\"** and **\"type 2 dm\"**\n",
    "- **\"CKD Stage 3\"** and **\"CKD Stage Five\"**\n",
    "\n",
    "We can write more complex rules in one of two ways: \n",
    "1. By writing **regular expressions**, which are strings which define flexible patterns to match in the text\n",
    "2. Or using spaCy's [rule-based matching](https://spacy.io/usage/rule-based-matching)\n",
    "\n",
    "In this course, we'll focus on using regular expressions for the sake of simplicity."
   ]
  },
  {
   "cell_type": "code",
   "execution_count": null,
   "metadata": {},
   "outputs": [],
   "source": [
    "target_rules2 = [\n",
    "    TargetRule(\"CKD\", \"PROBLEM\", pattern=r\"ckd stage ([1-5]|one|two|three|four|five)\"),\n",
    "    \n",
    "    TargetRule(\"Type II Diabetes Mellitus\", \"PROBLEM\", \n",
    "              pattern=r\"type (2|ii|two) (diabetes|dm)( mellitus)?\"),\n",
    "]"
   ]
  },
  {
   "cell_type": "code",
   "execution_count": null,
   "metadata": {},
   "outputs": [],
   "source": [
    "target_matcher.add(target_rules2)"
   ]
  },
  {
   "cell_type": "markdown",
   "metadata": {},
   "source": [
    "Now we can process the texts by calling `nlp.pipe(texts)`:"
   ]
  },
  {
   "cell_type": "code",
   "execution_count": null,
   "metadata": {},
   "outputs": [],
   "source": [
    "docs = list(nlp.pipe(texts))"
   ]
  },
  {
   "cell_type": "markdown",
   "metadata": {},
   "source": [
    "Let's visualize the entities extracted in these docs."
   ]
  },
  {
   "cell_type": "code",
   "execution_count": null,
   "metadata": {},
   "outputs": [],
   "source": [
    "from spacy import displacy"
   ]
  },
  {
   "cell_type": "code",
   "execution_count": null,
   "metadata": {},
   "outputs": [],
   "source": [
    "displacy.render(docs, style=\"ent\")"
   ]
  },
  {
   "cell_type": "markdown",
   "metadata": {},
   "source": [
    "### TODO \n",
    "Add rules to extract any problems, treatments, or tests in the text below. Add it to the target matcher and process the text."
   ]
  },
  {
   "cell_type": "code",
   "execution_count": null,
   "metadata": {},
   "outputs": [],
   "source": [
    "text = \"\"\"Patient presents to emergency department with complaint of SOB, cough and chills.\n",
    "Ordered a respiratory panel to test for SARS-COV-2. \n",
    "\n",
    "Patient has an allergy to penicillin.\n",
    "\"\"\""
   ]
  },
  {
   "cell_type": "code",
   "execution_count": null,
   "metadata": {},
   "outputs": [],
   "source": [
    "new_target_rules = [\n",
    "    TargetRule(____, \"PROBLEM\"),\n",
    "    TargetRule(____, ____),\n",
    "    # ...\n",
    "]"
   ]
  },
  {
   "cell_type": "code",
   "execution_count": null,
   "metadata": {},
   "outputs": [],
   "source": [
    "target_matcher.add(new_target_rules)"
   ]
  },
  {
   "cell_type": "code",
   "execution_count": null,
   "metadata": {},
   "outputs": [],
   "source": [
    "doc = nlp(text)"
   ]
  },
  {
   "cell_type": "code",
   "execution_count": null,
   "metadata": {},
   "outputs": [],
   "source": [
    "displacy.render(doc, style=\"ent\")"
   ]
  },
  {
   "cell_type": "code",
   "execution_count": null,
   "metadata": {},
   "outputs": [],
   "source": []
  },
  {
   "cell_type": "markdown",
   "metadata": {},
   "source": [
    "### What makes named entity recognition difficult in clinical texts?"
   ]
  },
  {
   "cell_type": "code",
   "execution_count": null,
   "metadata": {},
   "outputs": [],
   "source": [
    "YouTubeVideo(\"UEm7H8cfz80\", start=1638, end=1735, rel=0)"
   ]
  },
  {
   "cell_type": "markdown",
   "metadata": {},
   "source": [
    "# Next Steps\n",
    "Now that we know how to extract clinical concepts from texts, we'll next look at why we need to analyze the context around extracted entities and how that helps inform us in our text processing.\n",
    "\n",
    "[nlp-03-context-section-detection.ipynb](nlp-03-context-section-detection.ipynb)"
   ]
  },
  {
   "cell_type": "code",
   "execution_count": null,
   "metadata": {},
   "outputs": [],
   "source": []
  }
 ],
 "metadata": {
  "kernelspec": {
   "display_name": "Python 3",
   "language": "python",
   "name": "python3"
  },
  "language_info": {
   "codemirror_mode": {
    "name": "ipython",
    "version": 3
   },
   "file_extension": ".py",
   "mimetype": "text/x-python",
   "name": "python",
   "nbconvert_exporter": "python",
   "pygments_lexer": "ipython3",
   "version": "3.7.9"
  }
 },
 "nbformat": 4,
 "nbformat_minor": 4
}
