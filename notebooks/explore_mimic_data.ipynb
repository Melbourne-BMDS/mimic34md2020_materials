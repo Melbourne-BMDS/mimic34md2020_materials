{
 "cells": [
  {
   "cell_type": "markdown",
   "metadata": {
    "deletable": true,
    "editable": true
   },
   "source": [
    "# Detailed Exploration of MIMIC Data"
   ]
  },
  {
   "cell_type": "code",
   "execution_count": null,
   "metadata": {
    "deletable": true
   },
   "outputs": [],
   "source": [
    "import cdsutils.emutils as em\n",
    "import warnings\n",
    "warnings.filterwarnings('ignore')\n",
    "from IPython.display import display"
   ]
  },
  {
   "cell_type": "code",
   "execution_count": null,
   "metadata": {
    "deletable": true
   },
   "outputs": [],
   "source": [
    "em.init_view()\n"
   ]
  },
  {
   "cell_type": "markdown",
   "metadata": {
    "deletable": true
   },
   "source": [
    "## Instructions\n",
    "\n",
    "This notebook displays and plots data from selected MIMIC tables for a small set of patients contained in the MIMIC2 demo data set. You can read descriptions of the available table by browsing through the tabs below. The data are displayed in two forms. First, we show you a subsection of the table contained in a [Pandas](https://pandas.pydata.org/) [DataFrame](https://pandas.pydata.org/docs/getting_started/dsintro.html#dataframe). We show up to 5 rows. You can move the slider above the DataFrame to move through the DataFrame.\n",
    "\n",
    "Second, we show you a histogram and a time series plot of the selected plot variable. For categorical variables, we count the number of occurrences for each value. For numeric variables we plot the histogram. The x-axis of the time series is always the `event_time` variable. Plots are created with [altair](https://altair-viz.github.io/), which currently only works in Jupyterlab, and not the traditional notebook view. All the jupyter servers provide both the traditional and lab views, which are selected in the web address. The traditional view is accessed via the `tree` address (e.g. `http://localhost:8996/tree`), while Jupyterlab is accessed iv the `lab` address (e.g. `http://localhost:8996/lab).\n",
    "\n",
    "#### Remember to shutdown the other notebooks for this module before proceeding.\n",
    "\n",
    "### Steps to Follow\n",
    "\n",
    "1. Use the `Select case` widget to choose a particular case.\n",
    "2. Use the `Select table` widget to choose a particular table.\n",
    "3. Use the `Select filter variable` widget to select a variable to filter the data by. These values are updated when you select a new table. \n",
    "4. Use the `Select filter value` widget to select a value to filter by. For example, if we look at the `io_events` without a filter we see rows with a variety of `label` values. However, if we select `label` as a filter variable and `Urine Out Foley` as the value, we only have rows with a `label` value of `Urine Out Foley`. See the image below with the left image without filtering and the right image with filtering.\n",
    "![Pandas Filtering](pandas_filtering.png)\n",
    "5. Use the `Select plot variable` widget to choose a variable from the table to plot.\n",
    "\n",
    "#### If things get messed up, you can try resetting the exploration with the green button (which should say `Reset` but doesn't). If that fails, restart the kernel."
   ]
  },
  {
   "cell_type": "code",
   "execution_count": null,
   "metadata": {
    "deletable": true
   },
   "outputs": [],
   "source": [
    "em.description()"
   ]
  },
  {
   "cell_type": "code",
   "execution_count": null,
   "metadata": {
    "deletable": true
   },
   "outputs": [],
   "source": [
    "display(em.get_case_explorer())"
   ]
  },
  {
   "cell_type": "code",
   "execution_count": null,
   "metadata": {},
   "outputs": [],
   "source": []
  }
 ],
 "metadata": {
  "kernelspec": {
   "display_name": "Python 3",
   "language": "python",
   "name": "python3"
  },
  "language_info": {
   "codemirror_mode": {
    "name": "ipython",
    "version": 3
   },
   "file_extension": ".py",
   "mimetype": "text/x-python",
   "name": "python",
   "nbconvert_exporter": "python",
   "pygments_lexer": "ipython3",
   "version": "3.7.6"
  }
 },
 "nbformat": 4,
 "nbformat_minor": 4
}
