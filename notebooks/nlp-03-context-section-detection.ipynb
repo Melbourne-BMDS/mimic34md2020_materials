{
 "cells": [
  {
   "cell_type": "markdown",
   "metadata": {},
   "source": [
    "# Overview\n",
    "In this notebook, we'll look beyond our target concepts to look for semantic modifiers using the **ConText** algorithm. We'll then see how to detect which section of a clinical document a concept is found in."
   ]
  },
  {
   "cell_type": "code",
   "execution_count": null,
   "metadata": {},
   "outputs": [],
   "source": [
    "import spacy\n",
    "import medspacy\n",
    "\n",
    "from IPython.display import YouTubeVideo"
   ]
  },
  {
   "cell_type": "code",
   "execution_count": null,
   "metadata": {},
   "outputs": [],
   "source": [
    "nlp = medspacy.load(enable=[\"sentencizer\", \"target_matcher\", \"context\", \"sectionizer\"])"
   ]
  },
  {
   "cell_type": "code",
   "execution_count": null,
   "metadata": {},
   "outputs": [],
   "source": [
    "nlp.pipe_names"
   ]
  },
  {
   "cell_type": "markdown",
   "metadata": {},
   "source": [
    "First, let's set up our model to extract some of the concepts we saw in the previous notebook:"
   ]
  },
  {
   "cell_type": "code",
   "execution_count": null,
   "metadata": {},
   "outputs": [],
   "source": [
    "from medspacy.ner import TargetRule"
   ]
  },
  {
   "cell_type": "code",
   "execution_count": null,
   "metadata": {},
   "outputs": [],
   "source": [
    "target_matcher = nlp.get_pipe(\"target_matcher\")"
   ]
  },
  {
   "cell_type": "code",
   "execution_count": null,
   "metadata": {},
   "outputs": [],
   "source": [
    "# Add rules from previous notebook for target extraction\n",
    "target_rules = [\n",
    "    TargetRule(\"pneumonia\", \"PROBLEM\"),\n",
    "    TargetRule(\"afib\", \"PROBLEM\"),\n",
    "    TargetRule(\"CHF\", \"PROBLEM\"),\n",
    "    TargetRule(\"Breast Cancer\", \"PROBLEM\"),\n",
    "    TargetRule(\"Alzheimer's\", \"PROBLEM\"),\n",
    "    TargetRule(\"metformin\", \"TREATMENT\"),\n",
    "    TargetRule(\"CKD\", \"PROBLEM\", pattern=r\"ckd stage ([1-5]|one|two|three|four|five)\"),\n",
    "    \n",
    "    TargetRule(\"Type II Diabetes Mellitus\", \"PROBLEM\", \n",
    "              pattern=r\"type (2|ii|two) (diabetes|dm)( mellitus)?\"),\n",
    "]"
   ]
  },
  {
   "cell_type": "code",
   "execution_count": null,
   "metadata": {},
   "outputs": [],
   "source": [
    "target_matcher.add(target_rules)"
   ]
  },
  {
   "cell_type": "markdown",
   "metadata": {},
   "source": [
    "# III. Contextual analysis\n",
    "Clinical text often contains mentions of concepts which the patient did not actually experience. For example:\n",
    "\n",
    "- \"There is *no evidence of* **pneumonia**\"\n",
    "- \"*Mother* with **breast cancer**\"\n",
    "- \"Patient presents for *r/o* **COVID-19**\"\n",
    "\n",
    "In all of these instances, we need to use the contextual clues around the entity to assert attributes like negation, experiencer, and uncertainty."
   ]
  },
  {
   "cell_type": "code",
   "execution_count": null,
   "metadata": {},
   "outputs": [],
   "source": [
    "YouTubeVideo(\"UEm7H8cfz80\", start=1747, end=1885, rel=0)"
   ]
  },
  {
   "cell_type": "markdown",
   "metadata": {},
   "source": [
    "## ConText Algorithm\n",
    "\n",
    "One method for this is the [ConText algorithm](https://www.sciencedirect.com/science/article/pii/S1532046409000744). ConText links target entities like problems with semantic modifiers like those shown above. \n",
    "\n",
    "ConText's algorithm is extremely simple. Once you have named entities identified in a sentence, you can run ConText to determine whether any of them are not affirmed for the patient at the time the note was written. Here is an example for identifying a negated named entity:\n",
    "\n",
    "1. Mark all ConText terms from your dictionary in the sentence\n",
    "2. All named entities between the negation term and the end of the sentence are changed from \"affirmed\" to \"negated\"\n",
    "3. Unless there is a termination term - then all named entities between the negation term and the termination term are changed from \"affirmed\" to \"negated\".\n"
   ]
  },
  {
   "cell_type": "markdown",
   "metadata": {},
   "source": [
    "Here is an example of how it works when \"but\" is included as a termination term in your dictionary"
   ]
  },
  {
   "cell_type": "markdown",
   "metadata": {},
   "source": [
    "<img alt=\"an example visualization of ConText\" src=\"../slides/ConText-negation-example.png\" width=\"500\">"
   ]
  },
  {
   "cell_type": "markdown",
   "metadata": {},
   "source": [
    "You can decide what types of modifiers you want ConText to address. If I create a modifier for experiencer, and include the word \"mother\" in my dictionary, then the experiencer is no longer the patient, which is the default assumption, but the person represented by the term \"mother\": "
   ]
  },
  {
   "cell_type": "markdown",
   "metadata": {},
   "source": [
    "<img alt=\"an example visualization of ConText\" src=\"../slides/ConText-experiencer-example.png\" width=\"500\">"
   ]
  },
  {
   "cell_type": "markdown",
   "metadata": {},
   "source": [
    "The medSpaCy implementation of ConText is [cycontext](https://github.com/medspacy/cycontext).\n",
    "\n",
    "Here we'll show the basic usage of ConText. When instantiating ConText, we can use default rules and then add additional as needed. See the [cycontext](https://github.com/medspacy/cycontext) repository for more detailed examples and tutorials."
   ]
  },
  {
   "cell_type": "code",
   "execution_count": null,
   "metadata": {},
   "outputs": [],
   "source": [
    "from medspacy.ner import TargetRule\n",
    "from medspacy.context import ConTextItem\n",
    "from medspacy.visualization import visualize_ent, visualize_dep"
   ]
  },
  {
   "cell_type": "code",
   "execution_count": null,
   "metadata": {},
   "outputs": [],
   "source": [
    "doc = nlp(\"There is no evidence of pneumonia.\")"
   ]
  },
  {
   "cell_type": "markdown",
   "metadata": {},
   "source": [
    "We can visualize the target and modifiers using two functions from `medspacy.visualization`. `visualize_ent` will highlight the spans of both target and modifier concepts. `visualize_dep` will show arrows between concepts to show which targets are modified by modifiers."
   ]
  },
  {
   "cell_type": "code",
   "execution_count": null,
   "metadata": {},
   "outputs": [],
   "source": [
    "visualize_ent(doc)"
   ]
  },
  {
   "cell_type": "code",
   "execution_count": null,
   "metadata": {},
   "outputs": [],
   "source": [
    "visualize_dep(doc)"
   ]
  },
  {
   "cell_type": "code",
   "execution_count": null,
   "metadata": {},
   "outputs": [],
   "source": [
    "texts = [\n",
    "    \"Patient presents for management of Type II Diabetes Mellitus\",\n",
    "    \"No evidence of pneumonia\",\n",
    "    \"Past medical history significant for afib, CHF, and CKD Stage 3, now CKD stage five.\",\n",
    "    \"Mother with breast cancer\",\n",
    "    \"continue metformin for type 2 dm\",\n",
    "    \"Her grandma was recently diagnosed with Alzheimer's\"\n",
    "]"
   ]
  },
  {
   "cell_type": "code",
   "execution_count": null,
   "metadata": {},
   "outputs": [],
   "source": [
    "docs = list(nlp.pipe(texts))"
   ]
  },
  {
   "cell_type": "markdown",
   "metadata": {},
   "source": [
    "### TODO\n",
    "The widget below will allow you to scroll through the docs and visualize each of them using the two functions described above. Select **\"both\"** as the display type so that you can see both highlighted entities (\"ent\") and the relations between them (\"dep\")."
   ]
  },
  {
   "cell_type": "code",
   "execution_count": null,
   "metadata": {},
   "outputs": [],
   "source": [
    "from medspacy.visualization import MedspaCyVisualizerWidget"
   ]
  },
  {
   "cell_type": "code",
   "execution_count": null,
   "metadata": {},
   "outputs": [],
   "source": [
    "w = MedspaCyVisualizerWidget(docs)"
   ]
  },
  {
   "cell_type": "markdown",
   "metadata": {},
   "source": [
    "#### Note\n",
    "If the output above won't display, you may need to do some extra configuration to get widgets to show up in notebooks. First, try running these commands in your terminal:\n",
    "\n",
    "```bash\n",
    "pip install ipywidgets\n",
    "jupyter nbextension enable --py widgetsnbextension\n",
    "```\n",
    "\n",
    "Then restart your kernel and try again.\n",
    "\n",
    "If that doesn't work, uncomment the code below and manually visualize each doc one at a time:"
   ]
  },
  {
   "cell_type": "code",
   "execution_count": null,
   "metadata": {},
   "outputs": [],
   "source": [
    "# idx = 0\n",
    "# visualize_dep(docs[idx])\n",
    "# visualize_ent(docs[idx])"
   ]
  },
  {
   "cell_type": "markdown",
   "metadata": {},
   "source": [
    "## Adding rules to ConText\n",
    "MedSpaCy comes with default rules for matching targets and modifiers. But you'll often find new examples which aren't included in the default rules. Let's see now how to add a rule.\n",
    "\n",
    "In the sentence **\"Her grandma was recently diagnosed with Alzheimer's\"**, medSpaCy fails to recognize that **\"grandma\"** is a **\"FAMILY\"** modifier. "
   ]
  },
  {
   "cell_type": "code",
   "execution_count": null,
   "metadata": {},
   "outputs": [],
   "source": [
    "text = \"Her grandma was recently diagnosed with Alzheimer's\"\n",
    "doc = nlp(text)"
   ]
  },
  {
   "cell_type": "code",
   "execution_count": null,
   "metadata": {},
   "outputs": [],
   "source": [
    "visualize_ent(doc)"
   ]
  },
  {
   "cell_type": "markdown",
   "metadata": {},
   "source": [
    "We can add this rule using the `ConTextRule` class and adding to the `context` component."
   ]
  },
  {
   "cell_type": "code",
   "execution_count": null,
   "metadata": {},
   "outputs": [],
   "source": [
    "from medspacy.context import ConTextRule"
   ]
  },
  {
   "cell_type": "code",
   "execution_count": null,
   "metadata": {},
   "outputs": [],
   "source": [
    "context = nlp.get_pipe(\"context\")"
   ]
  },
  {
   "cell_type": "markdown",
   "metadata": {},
   "source": [
    "This class uses the same arguments as `TargetMatcher`, `literal` and `category`, with an optional `pattern`:"
   ]
  },
  {
   "cell_type": "code",
   "execution_count": null,
   "metadata": {},
   "outputs": [],
   "source": [
    "new_context_rules = [\n",
    "    ConTextRule(literal=\"grandma\", category=\"FAMILY\", pattern=None),\n",
    "]"
   ]
  },
  {
   "cell_type": "code",
   "execution_count": null,
   "metadata": {},
   "outputs": [],
   "source": [
    "context.add(new_context_rules)"
   ]
  },
  {
   "cell_type": "code",
   "execution_count": null,
   "metadata": {},
   "outputs": [],
   "source": [
    "doc = nlp(text)"
   ]
  },
  {
   "cell_type": "code",
   "execution_count": null,
   "metadata": {},
   "outputs": [],
   "source": [
    "visualize_ent(doc)\n",
    "visualize_dep(doc)"
   ]
  },
  {
   "cell_type": "markdown",
   "metadata": {},
   "source": [
    "### TODO\n",
    "Add a ConText item rule to create a negation modifier for the phrase **\"is not evident\"**. Then add the rule to `context.add()` and process the text below. Make sure that **\"is not evident\"** modifies **\"Pneumonia\"**.\n",
    "\n",
    "The list below shows the possible values for the `category` argument:\n",
    "- 'FAMILY',\n",
    "- 'HISTORICAL',\n",
    "- 'HYPOTHETICAL',\n",
    "- 'NEGATED_EXISTENCE',\n",
    "- 'POSSIBLE_EXISTENCE'"
   ]
  },
  {
   "cell_type": "code",
   "execution_count": null,
   "metadata": {},
   "outputs": [],
   "source": [
    "new_context_rules = [\n",
    "    ConTextRule(literal=____, category=____),\n",
    "]"
   ]
  },
  {
   "cell_type": "code",
   "execution_count": null,
   "metadata": {},
   "outputs": [],
   "source": [
    "context.add(new_context_rules)"
   ]
  },
  {
   "cell_type": "code",
   "execution_count": null,
   "metadata": {},
   "outputs": [],
   "source": [
    "doc = nlp(\"Pneumonia is not evident.\")"
   ]
  },
  {
   "cell_type": "code",
   "execution_count": null,
   "metadata": {},
   "outputs": [],
   "source": [
    "visualize_dep(doc)"
   ]
  },
  {
   "cell_type": "markdown",
   "metadata": {},
   "source": [
    "# IV.  Section detection\n",
    "Another important aspect of understanding what is being described in text is the structure of the document. Here is a discussion about determining whether a report describes cervical lymphadenopathy:"
   ]
  },
  {
   "cell_type": "code",
   "execution_count": null,
   "metadata": {},
   "outputs": [],
   "source": [
    "YouTubeVideo(\"UEm7H8cfz80\", start=1205, end=1303, rel=0)"
   ]
  },
  {
   "cell_type": "markdown",
   "metadata": {},
   "source": [
    "\n",
    "Clinical notes often contain a certain structure. The one example of this is the [SOAP note](https://www.globalpremeds.com/blog/2015/01/02/understanding-soap-format-for-clinical-rounds/). Different parts of the notes have different significance. For example, a document listed in the **Past Medical History** or **Problem List** is likely a historical condition which may not be relevant to a patient visit, where as the **Assessment/Plan** will be contain more up-to-date diagnoses.\n",
    "\n",
    "MedSpaCy will detect sections through the `sectionizer` component. We can then visualize the section headers in using `visualize_ent`."
   ]
  },
  {
   "cell_type": "code",
   "execution_count": null,
   "metadata": {},
   "outputs": [],
   "source": [
    "sectionizer = nlp.get_pipe(\"sectionizer\")"
   ]
  },
  {
   "cell_type": "code",
   "execution_count": null,
   "metadata": {},
   "outputs": [],
   "source": [
    "text = \"\"\"Past Medical History:\n",
    "1. Type II DM\n",
    "2. Afib\n",
    "3. CKD Stage 3\n",
    "\n",
    "Family History:\n",
    "1. Breast Cancer\n",
    "\n",
    "\n",
    "Reason for this examination: Possible pneumonia.\n",
    "\n",
    "IMPRESSION:\n",
    "No evidence of pneumonia.\n",
    "\n",
    "Assessment/Plan:\n",
    "Continue metformin for type 2 dm.\n",
    "\"\"\""
   ]
  },
  {
   "cell_type": "code",
   "execution_count": null,
   "metadata": {},
   "outputs": [],
   "source": [
    "doc = nlp(text)"
   ]
  },
  {
   "cell_type": "code",
   "execution_count": null,
   "metadata": {},
   "outputs": [],
   "source": [
    "visualize_ent(doc)"
   ]
  },
  {
   "cell_type": "markdown",
   "metadata": {},
   "source": [
    "We can see all of the section titles in the doc by calling `doc._.section_categories`. We can also see which section an entity occured in using `ent._.section_category`:"
   ]
  },
  {
   "cell_type": "code",
   "execution_count": null,
   "metadata": {},
   "outputs": [],
   "source": [
    "print(doc._.section_categories)"
   ]
  },
  {
   "cell_type": "code",
   "execution_count": null,
   "metadata": {},
   "outputs": [],
   "source": [
    "for ent in doc.ents:\n",
    "    print(ent, \"-->\", ent._.section_category)"
   ]
  },
  {
   "cell_type": "code",
   "execution_count": null,
   "metadata": {},
   "outputs": [],
   "source": []
  },
  {
   "cell_type": "markdown",
   "metadata": {},
   "source": [
    "## Adding rules to the sectionizer\n",
    "Just like with `context` and `target_matcher`, you'll want to add new section titles to the `sectionizer` component. We can do this with the `SectionRule` class, which just like the other rules we created will take `literal`, `category`, and optional `pattern` arguments.\n",
    "\n",
    "We then add these patterns using `sectionizer.add()`.\n",
    "\n",
    "For example, we can see below that medSpaCy fails to recognize **\"Previous Medical History\"** to be equivalent to **\"Past Medical History\"**."
   ]
  },
  {
   "cell_type": "code",
   "execution_count": null,
   "metadata": {},
   "outputs": [],
   "source": [
    "text = \"\"\"Previous Medical History:\n",
    "Pneumonia in 2012\n",
    "\"\"\""
   ]
  },
  {
   "cell_type": "code",
   "execution_count": null,
   "metadata": {},
   "outputs": [],
   "source": [
    "doc = nlp(text)"
   ]
  },
  {
   "cell_type": "code",
   "execution_count": null,
   "metadata": {},
   "outputs": [],
   "source": [
    "visualize_ent(doc)"
   ]
  },
  {
   "cell_type": "markdown",
   "metadata": {},
   "source": [
    "Let's add a rule here to match it."
   ]
  },
  {
   "cell_type": "code",
   "execution_count": null,
   "metadata": {},
   "outputs": [],
   "source": [
    "from medspacy.section_detection import SectionRule"
   ]
  },
  {
   "cell_type": "code",
   "execution_count": null,
   "metadata": {},
   "outputs": [],
   "source": [
    "sectionizer = nlp.get_pipe(\"sectionizer\")"
   ]
  },
  {
   "cell_type": "code",
   "execution_count": null,
   "metadata": {},
   "outputs": [],
   "source": [
    "rule = SectionRule(\"Previous Medical History:\", \"past_medical_history\")"
   ]
  },
  {
   "cell_type": "code",
   "execution_count": null,
   "metadata": {},
   "outputs": [],
   "source": [
    "sectionizer.add([rule])"
   ]
  },
  {
   "cell_type": "code",
   "execution_count": null,
   "metadata": {},
   "outputs": [],
   "source": [
    "doc = nlp(text)\n",
    "visualize_ent(doc)"
   ]
  },
  {
   "cell_type": "markdown",
   "metadata": {},
   "source": [
    "Here is a list of the default rules which come with the `Sectionizer` class:"
   ]
  },
  {
   "cell_type": "code",
   "execution_count": null,
   "metadata": {},
   "outputs": [],
   "source": [
    "sectionizer.rules[:10]"
   ]
  },
  {
   "cell_type": "markdown",
   "metadata": {},
   "source": [
    "### TODO\n",
    "Look at the note below. Identify any section titles which aren't highlighted by medSpaCy. Then add patterns to the sectionizer to match them. For the `\"section_title\"` key, you can either choose from one of the standardized titles below or choose your own."
   ]
  },
  {
   "cell_type": "code",
   "execution_count": null,
   "metadata": {},
   "outputs": [],
   "source": [
    "text = \"\"\"\\\n",
    "Active Medical Issues:\n",
    "- Hip Pain\n",
    "- Hypertension\n",
    "- CHF\n",
    "\n",
    "Medical Decision Making:\n",
    "Patient understands benefits and risks of surgery.\n",
    "\n",
    "Instructions for Home Care:\n",
    "Dress wound twice a day.\n",
    "\"\"\""
   ]
  },
  {
   "cell_type": "code",
   "execution_count": null,
   "metadata": {},
   "outputs": [],
   "source": [
    "new_section_patterns = [\n",
    "    SectionRule(literal=___, category=___),\n",
    "    # ...\n",
    "]"
   ]
  },
  {
   "cell_type": "code",
   "execution_count": null,
   "metadata": {},
   "outputs": [],
   "source": [
    "sectionizer.____(____)"
   ]
  },
  {
   "cell_type": "code",
   "execution_count": null,
   "metadata": {},
   "outputs": [],
   "source": [
    "doc = nlp(text)\n",
    "visualize_ent(doc)"
   ]
  },
  {
   "cell_type": "markdown",
   "metadata": {},
   "source": [
    "# What if we used machine learning rather than a rules-based system?"
   ]
  },
  {
   "cell_type": "code",
   "execution_count": null,
   "metadata": {},
   "outputs": [],
   "source": [
    "YouTubeVideo(\"UEm7H8cfz80\", start=2600, end=2708, rel=0)"
   ]
  },
  {
   "cell_type": "markdown",
   "metadata": {},
   "source": [
    "# Next Steps\n",
    "So far, we've used medSpaCy to write rules for extracting concepts in the text and for identifying other attributes like negation and an entity's section in the note. Next we'll see how to use **machine learning** as an alternative method for concept extraction.\n",
    "\n",
    "[nlp-04-machine-learning-ner.ipynb](nlp-04-machine-learning-ner.ipynb)"
   ]
  },
  {
   "cell_type": "code",
   "execution_count": null,
   "metadata": {},
   "outputs": [],
   "source": []
  }
 ],
 "metadata": {
  "kernelspec": {
   "display_name": "Python 3",
   "language": "python",
   "name": "python3"
  },
  "language_info": {
   "codemirror_mode": {
    "name": "ipython",
    "version": 3
   },
   "file_extension": ".py",
   "mimetype": "text/x-python",
   "name": "python",
   "nbconvert_exporter": "python",
   "pygments_lexer": "ipython3",
   "version": "3.7.9"
  }
 },
 "nbformat": 4,
 "nbformat_minor": 4
}
