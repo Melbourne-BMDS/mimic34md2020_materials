{
 "cells": [
  {
   "cell_type": "markdown",
   "metadata": {},
   "source": [
    "# Introducing Myself\n",
    "## Brian Chapman\n",
    "\n",
    "![This is me](./media/PlaidSmall.jpg)"
   ]
  },
  {
   "cell_type": "code",
   "execution_count": null,
   "metadata": {},
   "outputs": [],
   "source": [
    "from dminteract.creator.utils import create_question_bank\n",
    "from IPython.display import display\n",
    "for w in create_question_bank(\"day1_bec.yaml\", tag=\"bec,intro\"):\n",
    "    display(w)"
   ]
  },
  {
   "cell_type": "markdown",
   "metadata": {},
   "source": [
    "# What is Data Science and Why Should I Care?\n",
    "\n",
    "\n",
    "There are many, many data science Venn diagrams, but here is one of my favorites.\n",
    "\n",
    "![Data Science Venn Diagram](https://www.oreilly.com/library/view/python-data-science/9781491912126/assets/pyds_00in01.png)\n",
    "\n",
    "## A Buzz Word (Certainly the view of many statisticians)\n",
    "\n",
    "- [50 Years of Data Science](https://courses.csail.mit.edu/18.337/2015/docs/50YearsDataScience.pdf)\n",
    "\n",
    "## What do data scientists use?\n",
    "\n",
    "- [Kaggle 2018 Survey](https://www.kaggle.com/paultimothymooney/2018-kaggle-machine-learning-data-science-survey)\n",
    "\n",
    "![2018 Top IDEs](./media/kaggle_2018_ide.png)\n",
    "\n",
    "![2018 First Language](./media/kaggle_2018_first_language.png)\n",
    "\n",
    "![2018 Most Recommended Language](./media/kaggle_2018_mc_language.png)\n",
    "\n",
    "![2018 Used Languages](./media/kaggle_2018_used_languages.png)\n",
    "\n"
   ]
  },
  {
   "cell_type": "markdown",
   "metadata": {},
   "source": [
    "## Why clinical data science?\n",
    "\n",
    "![60-30-10](./media/60_30_10.png)\n",
    "\n",
    "![danger](./media/healthcare_danger.png)"
   ]
  },
  {
   "cell_type": "code",
   "execution_count": null,
   "metadata": {},
   "outputs": [],
   "source": []
  }
 ],
 "metadata": {
  "kernelspec": {
   "display_name": "Python 3",
   "language": "python",
   "name": "python3"
  },
  "language_info": {
   "codemirror_mode": {
    "name": "ipython",
    "version": 3
   },
   "file_extension": ".py",
   "mimetype": "text/x-python",
   "name": "python",
   "nbconvert_exporter": "python",
   "pygments_lexer": "ipython3",
   "version": "3.7.6"
  }
 },
 "nbformat": 4,
 "nbformat_minor": 4
}
