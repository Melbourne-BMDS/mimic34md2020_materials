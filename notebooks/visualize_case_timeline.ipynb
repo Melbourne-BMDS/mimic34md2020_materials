{
 "cells": [
  {
   "cell_type": "markdown",
   "metadata": {
    "deletable": true,
    "editable": true
   },
   "source": [
    "# Visualization of MIMIC Case Timelines\n",
    "\n",
    "This notebook provides an opportunity to explore the temporal nature of data entry for patients. Again we are using the MIMIC2 demo data set and I've limited the cases to the 20 cases with whom we explored textual and coded data. There were data failures with some of the cases, so there are 14 cases to explore. Visualizations are done with [Altair](https://altair-viz.github.io/index.html). I am not a visualization expert and am only a novice with using Altair, so your patience with the visualization is appreciated!\n",
    "\n",
    "## Some Key Points\n",
    "\n",
    "* Altair can ony visualize up to 5000 data points. Some of the patients have many more data points than this in MIMIC2. For Example, case # 10299 had 39931 observations from a month-long hospitalization. Consequently I aggregated chart events and input/output events by subcategories. Visualization of these values is currently poor, but can be seen with the hover tool.\n",
    "* Microbiology events, visualized in the bottom chart, have NULL values if no bacteria were identified in the samples. So the displayed values are simply NULL.\n",
    "* When you use the dropdown menu to select a new case, the refreshing of the chart can be a bit slow.\n",
    "* The charts have pan and zoom capability.\n",
    "* You can see more details by hovering the cursor over a point.\n",
    "* The color of the circles encodes which provider (e.g. nurse, therapist) entered the data. You can clearly see shifts in the care staff over time.\n",
    "\n",
    "#### This notebook will only work in Jupyterlab"
   ]
  },
  {
   "cell_type": "code",
   "execution_count": null,
   "metadata": {
    "deletable": true,
    "editable": true
   },
   "outputs": [],
   "source": [
    "from cdsutils.mvutils import *\n",
    "from ipywidgets import interact\n"
   ]
  },
  {
   "cell_type": "code",
   "execution_count": null,
   "metadata": {
    "deletable": true,
    "editable": true
   },
   "outputs": [],
   "source": [
    "case_data = read_data()\n",
    "case_list = list(case_data.keys())\n",
    "case_list.sort()"
   ]
  },
  {
   "cell_type": "code",
   "execution_count": null,
   "metadata": {
    "deletable": true,
    "editable": true
   },
   "outputs": [],
   "source": [
    "@interact(case=case_list)\n",
    "def _plot_case(case):\n",
    "    plt = plot_case(case_data[case])\n",
    "    return plt"
   ]
  }
 ],
 "metadata": {
  "kernelspec": {
   "display_name": "Python 3",
   "language": "python",
   "name": "python3"
  },
  "language_info": {
   "codemirror_mode": {
    "name": "ipython",
    "version": 3
   },
   "file_extension": ".py",
   "mimetype": "text/x-python",
   "name": "python",
   "nbconvert_exporter": "python",
   "pygments_lexer": "ipython3",
   "version": "3.7.6"
  }
 },
 "nbformat": 4,
 "nbformat_minor": 4
}
