{
 "cells": [
  {
   "cell_type": "markdown",
   "metadata": {},
   "source": [
    "# Plot example data for a single patient\n",
    "\n",
    "This is a modification of the notebook available from [this](https://github.com/MIT-LCP/mimic-iii-paper) repository. It has been modified so as to run on a SQLite3 instance of the MIMIC III demo database. SQLite3 is not handling dates correctly, so I handle dates, times, and deltas in Pandas.\n"
   ]
  },
  {
   "cell_type": "code",
   "execution_count": null,
   "metadata": {},
   "outputs": [],
   "source": [
    "# Import libraries\n",
    "import numpy as np\n",
    "import pandas as pd\n",
    "import matplotlib.pyplot as plt\n",
    "import sqlite3 as sq\n",
    "import random\n",
    "%matplotlib inline"
   ]
  },
  {
   "cell_type": "code",
   "execution_count": null,
   "metadata": {
    "jupyter": {
     "outputs_hidden": false
    }
   },
   "outputs": [],
   "source": [
    "# Config\n",
    "sqluser = 'postgres'\n",
    "dbname = 'mimic'\n",
    "schema_name = 'mimiciii'"
   ]
  },
  {
   "cell_type": "code",
   "execution_count": null,
   "metadata": {},
   "outputs": [],
   "source": [
    "# Connect to MIMIC\n",
    "con = sq.connect(\"../notebooks/mimic3.db\")\n",
    "cur = con.cursor()\n",
    "#cur.execute('SET search_path to ' + schema_name)\n",
    "# cur.close()\n",
    "# con.close()"
   ]
  },
  {
   "cell_type": "code",
   "execution_count": null,
   "metadata": {},
   "outputs": [],
   "source": [
    "ids = list(pd.read_sql(\"\"\"SELECT icustay_id FROM icustays\"\"\", con).icustay_id)"
   ]
  },
  {
   "cell_type": "code",
   "execution_count": null,
   "metadata": {},
   "outputs": [],
   "source": [
    "# Select a single ICU stay\n",
    "icustay_id = random.choice(ids)\n",
    "icustay_id"
   ]
  },
  {
   "cell_type": "code",
   "execution_count": null,
   "metadata": {
    "jupyter": {
     "outputs_hidden": false
    }
   },
   "outputs": [],
   "source": [
    "# Load admissions\n",
    "query = \"\"\"\n",
    "SELECT ad.subject_id\n",
    "  , ad.hadm_id\n",
    "  , ad.admission_type\n",
    "  , ad.diagnosis\n",
    "  , ic.icustay_id\n",
    "  , ic.first_careunit\n",
    "  , ic.last_careunit\n",
    "  , ic.intime as icu_intime\n",
    "  , ad.hospital_expire_flag\n",
    "  , pa.expire_flag\n",
    "FROM admissions ad\n",
    "INNER JOIN icustays ic\n",
    "ON ad.subject_id = ic.subject_id\n",
    "INNER JOIN patients pa\n",
    "ON ad.subject_id = pa.subject_id\n",
    "WHERE ic.icustay_id = \"\"\" + str(icustay_id) + \"\"\" \n",
    "ORDER BY ic.intime\n",
    "\"\"\"\n",
    "\n",
    "admissions = pd.read_sql_query(query,con)"
   ]
  },
  {
   "cell_type": "code",
   "execution_count": null,
   "metadata": {
    "jupyter": {
     "outputs_hidden": false
    }
   },
   "outputs": [],
   "source": [
    "# First few rows of admissions\n",
    "admissions.head()"
   ]
  },
  {
   "cell_type": "code",
   "execution_count": null,
   "metadata": {
    "jupyter": {
     "outputs_hidden": false
    }
   },
   "outputs": [],
   "source": [
    "# Load chartevents\n",
    "query = \"\"\"\n",
    "SELECT ce.icustay_id\n",
    "  , ce.charttime\n",
    "  , ie.intime\n",
    "  , di.label\n",
    "  , ce.value\n",
    "  , ce.valuenum\n",
    "  , ce.valueuom\n",
    "FROM chartevents ce\n",
    "INNER join d_items di\n",
    "ON ce.itemid = di.itemid\n",
    "INNER join icustays ie\n",
    "ON ce.icustay_id = ie.icustay_id\n",
    "WHERE ce.icustay_id = \"\"\" + str(icustay_id) + \"\"\"\n",
    "AND error != 1\n",
    "ORDER BY ce.charttime\n",
    "\"\"\"\n",
    "\n",
    "charts = pd.read_sql_query(query,con)"
   ]
  },
  {
   "cell_type": "code",
   "execution_count": null,
   "metadata": {
    "jupyter": {
     "outputs_hidden": false
    }
   },
   "outputs": [],
   "source": [
    "# First few rows of charts\n",
    "charts.head()"
   ]
  },
  {
   "cell_type": "code",
   "execution_count": null,
   "metadata": {
    "jupyter": {
     "outputs_hidden": false
    }
   },
   "outputs": [],
   "source": [
    "# Load outputevents\n",
    "query = \"\"\"\n",
    "SELECT oe.icustay_id\n",
    "  , oe.charttime\n",
    "  , ie.intime\n",
    "  , di.label\n",
    "  , oe.value\n",
    "  , oe.valueuom\n",
    "FROM outputevents oe \n",
    "INNER JOIN icustays ie\n",
    "  ON oe.icustay_id = ie.icustay_id\n",
    "INNER JOIN d_items di\n",
    "  ON oe.itemid = di.itemid\n",
    "WHERE oe.icustay_id = \"\"\" + str(icustay_id) + \"\"\"\n",
    "ORDER BY oe.charttime\n",
    "\"\"\"\n",
    "\n",
    "outputs = pd.read_sql_query(query,con)"
   ]
  },
  {
   "cell_type": "code",
   "execution_count": null,
   "metadata": {
    "jupyter": {
     "outputs_hidden": false
    }
   },
   "outputs": [],
   "source": [
    "# First few rows of outputs\n",
    "outputs.head()"
   ]
  },
  {
   "cell_type": "code",
   "execution_count": null,
   "metadata": {
    "jupyter": {
     "outputs_hidden": false
    }
   },
   "outputs": [],
   "source": [
    "# Load inputevents\n",
    "query = \"\"\"\n",
    "SELECT inp.icustay_id\n",
    "  , inp.starttime\n",
    "  , inp.endtime\n",
    "  , ie.intime\n",
    "  , di.label\n",
    "  , inp.amount\n",
    "  , inp.amountuom\n",
    "  , inp.rate\n",
    "  , inp.rateuom\n",
    "FROM inputevents_mv inp \n",
    "INNER join icustays ie\n",
    "  ON inp.icustay_id = ie.icustay_id\n",
    "INNER join d_items di\n",
    "  ON inp.itemid = di.itemid\n",
    "WHERE inp.icustay_id = \"\"\" + str(icustay_id) + \"\"\"\n",
    "AND lower(inp.statusdescription) != 'rewritten'\n",
    "ORDER BY inp.starttime\n",
    "\"\"\"\n",
    "\n",
    "inputs = pd.read_sql_query(query,con)"
   ]
  },
  {
   "cell_type": "code",
   "execution_count": null,
   "metadata": {
    "jupyter": {
     "outputs_hidden": false
    }
   },
   "outputs": [],
   "source": [
    "# First few rows of inputs\n",
    "inputs.head()"
   ]
  },
  {
   "cell_type": "code",
   "execution_count": null,
   "metadata": {
    "jupyter": {
     "outputs_hidden": false
    }
   },
   "outputs": [],
   "source": [
    "# Load labevents\n",
    "query = \"\"\"\n",
    "SELECT le.subject_id\n",
    "  , ie.icustay_id\n",
    "  , le.charttime\n",
    "  , ie.intime \n",
    "  , di.label\n",
    "  , le.value\n",
    "  , le.valuenum\n",
    "  , le.valueuom\n",
    "FROM labevents le\n",
    "INNER join icustays ie\n",
    "  ON le.subject_id = ie.subject_id\n",
    "  AND le.charttime >= ie.intime\n",
    "  AND le.charttime <= ie.outtime\n",
    "INNER JOIN d_labitems di\n",
    "  ON le.itemid = di.itemid\n",
    "WHERE ie.icustay_id = \"\"\" + str(icustay_id) + \"\"\"\n",
    "ORDER BY le.charttime\n",
    "\"\"\"\n",
    "\n",
    "labs = pd.read_sql_query(query,con)"
   ]
  },
  {
   "cell_type": "code",
   "execution_count": null,
   "metadata": {
    "jupyter": {
     "outputs_hidden": false
    }
   },
   "outputs": [],
   "source": [
    "# First few rows of labs\n",
    "print(charts.dtypes)\n",
    "inputs.head()"
   ]
  },
  {
   "cell_type": "code",
   "execution_count": null,
   "metadata": {},
   "outputs": [],
   "source": [
    "pd.to_datetime(outputs[\"charttime\"], format=\"%Y-%m-%d %H:%M:%S\").dtype"
   ]
  },
  {
   "cell_type": "markdown",
   "metadata": {},
   "source": [
    "### Dates are not converting"
   ]
  },
  {
   "cell_type": "code",
   "execution_count": null,
   "metadata": {},
   "outputs": [],
   "source": [
    "admissions[\"icu_intime\"] = admissions[\"icu_intime\"].apply(pd.to_datetime) #format=\"%Y-%m-%d %H:%M:%S\")\n",
    "charts[[\"charttime\", \"intime\"]] = charts[[\"charttime\", \"intime\"]].apply(pd.to_datetime)#, format=\"%Y-%m-%d %H:%M:%S\")\n",
    "outputs[[\"charttime\", \"intime\"]] = outputs[[\"charttime\", \"intime\"]].apply(pd.to_datetime)#, format=\"%Y-%m-%d %H:%M:%S\")\n",
    "inputs[[\"starttime\", \"intime\", \"endtime\"]] = inputs[[\"starttime\", \"intime\", \"endtime\"]].apply(pd.to_datetime)#, format=\"%Y-%m-%d %H:%M:%S\")\n",
    "labs[[\"charttime\", \"intime\"]] = labs[[\"charttime\", \"intime\"]].apply(pd.to_datetime)#, format=\"%Y-%m-%d %H:%M:%S\")"
   ]
  },
  {
   "cell_type": "code",
   "execution_count": null,
   "metadata": {},
   "outputs": [],
   "source": [
    "outputs.dtypes"
   ]
  },
  {
   "cell_type": "code",
   "execution_count": null,
   "metadata": {},
   "outputs": [],
   "source": [
    "labs[\"icutime\"] = labs.charttime - labs.intime\n",
    "inputs[\"icustarttime\"] = inputs.starttime - inputs.intime\n",
    "inputs[\"icuendtime\"] = inputs.endtime - inputs.intime\n",
    "outputs[\"icutime\"]= outputs.charttime - outputs.intime \n",
    "charts[\"icutime\"] = charts.charttime - charts.intime"
   ]
  },
  {
   "cell_type": "code",
   "execution_count": null,
   "metadata": {},
   "outputs": [],
   "source": []
  },
  {
   "cell_type": "code",
   "execution_count": null,
   "metadata": {},
   "outputs": [],
   "source": []
  },
  {
   "cell_type": "code",
   "execution_count": null,
   "metadata": {
    "jupyter": {
     "outputs_hidden": false
    }
   },
   "outputs": [],
   "source": [
    "# Snip data to specified number of days\n",
    "maxdays = 5;\n",
    "charts = charts.loc[charts.icutime.dt.days<=maxdays]\n",
    "outputs = outputs.loc[outputs.icutime.dt.days<=maxdays]\n",
    "inputs = inputs.loc[inputs.icustarttime.dt.days<=maxdays]\n",
    "labs = labs.loc[labs.icutime.dt.days<=maxdays]"
   ]
  },
  {
   "cell_type": "code",
   "execution_count": null,
   "metadata": {
    "jupyter": {
     "outputs_hidden": false
    }
   },
   "outputs": [],
   "source": [
    "# Create column with minutes from ICU intime\n",
    "charts['icutimehr'] = (charts['icutime'].dt.seconds/60/60)+(charts['icutime'].dt.days*24)\n",
    "outputs['icutimehr'] = (outputs['icutime'].dt.seconds/60/60)+(outputs['icutime'].dt.days*24)\n",
    "inputs['icustarttimehr'] = (inputs['icustarttime'].dt.seconds/60/60)+(inputs['icustarttime'].dt.days*24)\n",
    "inputs['icuendtimehr'] = (inputs['icuendtime'].dt.seconds/60/60)+(inputs['icuendtime'].dt.days*24)\n",
    "labs['icutimehr'] = (labs['icutime'].dt.seconds/60/60)+(labs['icutime'].dt.days*24)"
   ]
  },
  {
   "cell_type": "code",
   "execution_count": null,
   "metadata": {
    "jupyter": {
     "outputs_hidden": false
    }
   },
   "outputs": [],
   "source": [
    "# What are the most commonly measured variables in charts?\n",
    "charts['label'].value_counts().head()"
   ]
  },
  {
   "cell_type": "code",
   "execution_count": null,
   "metadata": {
    "jupyter": {
     "outputs_hidden": false
    }
   },
   "outputs": [],
   "source": [
    "# What are the most commonly measured variables in charts?\n",
    "outputs['label'].value_counts().head()"
   ]
  },
  {
   "cell_type": "code",
   "execution_count": null,
   "metadata": {
    "jupyter": {
     "outputs_hidden": false
    }
   },
   "outputs": [],
   "source": [
    "# What are the most commonly measured variables in charts?\n",
    "inputs['label'].value_counts().head()"
   ]
  },
  {
   "cell_type": "code",
   "execution_count": null,
   "metadata": {
    "jupyter": {
     "outputs_hidden": false
    }
   },
   "outputs": [],
   "source": [
    "# What are the most commonly measured variables in charts?\n",
    "labs.mean()"
   ]
  },
  {
   "cell_type": "code",
   "execution_count": null,
   "metadata": {
    "jupyter": {
     "outputs_hidden": false
    }
   },
   "outputs": [],
   "source": [
    "# Get average values\n",
    "hr_mean = charts.valuenum[charts.label=='Heart Rate'].mean()\n",
    "bp_mean = charts.icutimehr[charts.label=='Non Invasive Blood Pressure mean'].mean()\n",
    "temp_mean = ((charts.valuenum[charts.label=='Temperature Fahrenheit']-32)/1.8).mean()\n",
    "\n",
    "# Print averages\n",
    "print(\"Mean HR is: {0:.2f}\".format(hr_mean))\n",
    "print(\"Mean BP is: {0:.2f}\".format(bp_mean))\n",
    "print(\"Mean temp, C is: {0:.2f}\".format(temp_mean))\n"
   ]
  },
  {
   "cell_type": "code",
   "execution_count": null,
   "metadata": {
    "jupyter": {
     "outputs_hidden": false
    }
   },
   "outputs": [],
   "source": [
    "# Plot sample data over first 24 hours from admission to ICU\n",
    "# Credit: Randal Olson for styling (http://www.randalolson.com/2014/06/28/)\n",
    "\n",
    "# Prepare the size of the figure\n",
    "fig = plt.figure(figsize=(22, 20))\n",
    "plt.rcParams.update({'font.size': 22})\n",
    "\n",
    "# \"Tableau 20\" colors as RGB.   \n",
    "tableau20 = [(31, 119, 180), (174, 199, 232), (255, 127, 14), (255, 187, 120),    \n",
    "             (44, 160, 44), (152, 223, 138), (214, 39, 40), (255, 152, 150),    \n",
    "             (148, 103, 189), (197, 176, 213), (140, 86, 75), (196, 156, 148),    \n",
    "             (227, 119, 194), (247, 182, 210), (127, 127, 127), (199, 199, 199),    \n",
    "             (188, 189, 34), (219, 219, 141), (23, 190, 207), (158, 218, 229)]  \n",
    "  \n",
    "# Scale the RGB values to the [0, 1] range, which is the format matplotlib accepts.    \n",
    "for i in range(len(tableau20)):    \n",
    "    r, g, b = tableau20[i]    \n",
    "    tableau20[i] = (r / 255., g / 255., b / 255.)\n",
    "    \n",
    "# Remove the plot frame lines. \n",
    "ax = plt.subplot(111)    \n",
    "ax.spines[\"top\"].set_visible(False)    \n",
    "ax.spines[\"bottom\"].set_visible(True)    \n",
    "ax.spines[\"right\"].set_visible(False)    \n",
    "ax.spines[\"left\"].set_visible(True)    \n",
    "  \n",
    "# Ensure that the axis ticks only show up on the bottom and left of the plot.      \n",
    "ax.get_xaxis().tick_bottom()    \n",
    "ax.get_yaxis().tick_left() \n",
    "ax.axis([0,60,0,225])\n",
    "\n",
    "# Plot vital signs\n",
    "plt.plot(charts.icutimehr[charts.label=='Heart Rate'], \n",
    "         charts.valuenum[charts.label=='Heart Rate'],\n",
    "         color=tableau20[6], lw=2.5,\n",
    "         marker='o', markersize=6, label='Heart rate')\n",
    "\n",
    "plt.plot(charts.icutimehr[charts.label=='O2 saturation pulseoxymetry'], \n",
    "         charts.valuenum[charts.label=='O2 saturation pulseoxymetry'],\n",
    "         color=tableau20[1], lw=2.5, \n",
    "         marker='o', markersize=6, label='O2 saturation')\n",
    "\n",
    "plt.plot(charts.icutimehr[charts.label=='Non Invasive Blood Pressure mean'], \n",
    "         charts.valuenum[charts.label=='Non Invasive Blood Pressure mean'],\n",
    "         color=tableau20[4], lw=2.5,\n",
    "         marker='o', markersize=6, label='NIBP, mean')\n",
    "\n",
    "plt.plot(charts.icutimehr[charts.label=='Respiratory Rate'], \n",
    "         charts.valuenum[charts.label=='Respiratory Rate'],\n",
    "         color=tableau20[2], lw=2.5,\n",
    "         marker='o', markersize=6, label='Respiratory rate')\n",
    "\n",
    "# for i, txt in enumerate(charts.value[charts.label=='Temperature Fahrenheit'].values):\n",
    "#         plt.annotate(txt,(charts.icutimehr[charts.label=='Temperature Fahrenheit'].\n",
    "#                            values[i],140),fontsize=15)\n",
    "\n",
    "# Plot input/output events\n",
    "plt.plot(inputs.icustarttimehr[inputs.amountuom=='mL'], \n",
    "         inputs.amount[inputs.amountuom=='mL'].cumsum()/100, \n",
    "         color=tableau20[9], lw=2.5,\n",
    "         marker='o', markersize=6, label='Intake volume, dL')\n",
    "\n",
    "plt.plot(outputs.icutimehr, \n",
    "         outputs.value.cumsum()/100, \n",
    "         color=tableau20[10], lw=2.5,\n",
    "         marker='o', markersize=6, label='Output volume, dL')\n",
    "\n",
    "# Plot intravenous meds\n",
    "plt.text(-10,150,'NaCl 0.9%',fontsize=17)\n",
    "for i,row in inputs.loc[(inputs[\"label\"] =='NaCl 0.9%') & (inputs[\"rate\"] > 0)].iterrows():\n",
    "    plt.plot([row['icustarttimehr'],row['icuendtimehr']],[150]*2,\n",
    "             color=tableau20[16], lw=4,marker='o', markersize=6)\n",
    "    plt.text(row['icustarttimehr'],150,\n",
    "             str(round(row['rate'],1)) + ' ' + str(row['rateuom']),\n",
    "             fontsize=15)\n",
    "\n",
    "plt.text(-10,145,'Amiodarone',fontsize=17)\n",
    "for i,row in inputs.loc[(inputs[\"label\"] =='Amiodarone 600/500') & (inputs[\"rate\"] > 0)].iterrows():\n",
    "    plt.plot([row['icustarttimehr'],row['icuendtimehr']],[145]*2,\n",
    "             color=tableau20[16], lw=4,marker='o', markersize=6)\n",
    "    plt.text(row['icustarttimehr'],145,\n",
    "             str(round(row['rate'],1)) + ' ' + str(row['rateuom']),\n",
    "             fontsize=15)    \n",
    "\n",
    "plt.text(-10,140,'Dextrose 5%',fontsize=17)\n",
    "for i,row in inputs.loc[(inputs[\"label\"] =='Dextrose 5%') \n",
    "                        & (inputs[\"rate\"] > 0) & (inputs[\"rate\"] < 500)].iterrows():\n",
    "    plt.plot([row['icustarttimehr'],row['icuendtimehr']],[140]*2,\n",
    "             color=tableau20[16], lw=4,marker='o', markersize=6)\n",
    "    plt.text(row['icustarttimehr'],140,\n",
    "             str(round(row['rate'],1)) + ' ' + str(row['rateuom']),\n",
    "             fontsize=15)    \n",
    "\n",
    "plt.text(-10,165,'Morphine Sulfate',fontsize=17)\n",
    "plt.plot(inputs.icustarttimehr[inputs.label=='Morphine Sulfate'],\n",
    "          [165]*len(inputs[inputs.label=='Morphine Sulfate']),\n",
    "          color=tableau20[16], lw=0, marker='o', markersize=6)   \n",
    "    \n",
    "plt.text(-10,160,'Vancomycin (1 dose)',fontsize=17)\n",
    "plt.plot(inputs.icustarttimehr[inputs.label=='Vancomycin'],\n",
    "          [160]*len(inputs[inputs.label=='Vancomycin']),\n",
    "          color=tableau20[16], lw=0, marker='o', markersize=6)\n",
    "    \n",
    "plt.text(-10,155,'Piperacillin (1 dose)',fontsize=17)\n",
    "plt.plot(inputs.icustarttimehr[inputs.label=='Piperacillin/Tazobactam (Zosyn)'],\n",
    "         [155]*len(inputs[inputs.label=='Piperacillin/Tazobactam (Zosyn)']),\n",
    "         color=tableau20[16], lw=0, marker='o', markersize=6)\n",
    "\n",
    "\n",
    "# Plot labs\n",
    "plt.text(-10,175,'Neutrophil, %',fontsize=17)\n",
    "for i, txt in enumerate(labs.value[labs.label=='NEUTROPHILS'].values):\n",
    "        plt.annotate(txt, (labs.icutimehr[labs.label=='NEUTROPHILS'].\n",
    "                           values[i],175),fontsize=17) \n",
    "\n",
    "plt.text(-10,180,'White blood cell, K/uL',fontsize=17)\n",
    "for i, txt in enumerate(labs.value[labs.label=='WHITE BLOOD CELLS'].values):\n",
    "        plt.annotate(txt, (labs.icutimehr[labs.label=='WHITE BLOOD CELLS'].\n",
    "                           values[i],180),fontsize=17)\n",
    "\n",
    "plt.text(-10,185,'Creatinine, mg/dL',fontsize=17)        \n",
    "for i, txt in enumerate(labs.value[labs.label=='CREATININE'].values):\n",
    "        plt.annotate(txt, (labs.icutimehr[labs.label=='CREATININE'].\n",
    "                           values[i],185),fontsize=17)\n",
    "\n",
    "plt.text(-10,190,'Platelet, K/uL',fontsize=17)\n",
    "for i, txt in enumerate(labs.value[labs.label=='PLATELET COUNT'].values):\n",
    "        plt.annotate(txt, (labs.icutimehr[labs.label=='PLATELET COUNT'].\n",
    "                           values[i],190),fontsize=17)\n",
    "\n",
    "# Plot Glasgow Coma Scale\n",
    "plt.text(-10,200,'GCS: Eye',fontsize=17)\n",
    "for i, txt in enumerate(charts.value[charts.label=='GCS - Eye Opening'].values):\n",
    "    if np.mod(i,2)==0 and i < 65:\n",
    "        plt.annotate(txt, (charts.icutimehr[charts.label=='GCS - Eye Opening'].\n",
    "                           values[i],200),fontsize=17)\n",
    "\n",
    "plt.text(-10,205,'GCS: Motor',fontsize=17)\n",
    "for i, txt in enumerate(charts.value[charts.label=='GCS - Motor Response'].values):\n",
    "    if np.mod(i,2)==0 and i < 65:\n",
    "        plt.annotate(txt, (charts.icutimehr[charts.label=='GCS - Motor Response'].\n",
    "                           values[i],205),fontsize=17)\n",
    "\n",
    "plt.text(-10,210,'GCS: Verbal',fontsize=17)  \n",
    "for i, txt in enumerate(charts.value[charts.label=='GCS - Verbal Response'].values):\n",
    "    if np.mod(i,2)==0 and i < 65:\n",
    "        plt.annotate(txt, (charts.icutimehr[charts.label=='GCS - Verbal Response'].\n",
    "                           values[i],210),fontsize=17)\n",
    "\n",
    "# Plot code status\n",
    "plt.text(-10,220,'Code status',fontsize=17) \n",
    "for i, txt in enumerate(charts.value[charts.label=='Code Status'].values):\n",
    "        plt.annotate(txt, (charts.icutimehr[charts.label=='Code Status'].\n",
    "                           values[i],220),fontsize=17)\n",
    "        \n",
    "plt.legend(loc=5,fontsize=18)\n",
    "plt.xlabel('Time after admission to the intensive care unit, hours', fontsize=22)\n",
    "plt.ylabel('Measurement, absolute value', fontsize=22)\n",
    "plt.yticks(np.arange(0, 140, 20))\n",
    "\n",
    "# Save the figure\n",
    "fig.savefig('examplepatient_%s.pdf'%icustay_id, bbox_inches='tight')"
   ]
  },
  {
   "cell_type": "code",
   "execution_count": null,
   "metadata": {},
   "outputs": [],
   "source": []
  }
 ],
 "metadata": {
  "kernelspec": {
   "display_name": "Python 3",
   "language": "python",
   "name": "python3"
  },
  "language_info": {
   "codemirror_mode": {
    "name": "ipython",
    "version": 3
   },
   "file_extension": ".py",
   "mimetype": "text/x-python",
   "name": "python",
   "nbconvert_exporter": "python",
   "pygments_lexer": "ipython3",
   "version": "3.7.6"
  }
 },
 "nbformat": 4,
 "nbformat_minor": 4
}
