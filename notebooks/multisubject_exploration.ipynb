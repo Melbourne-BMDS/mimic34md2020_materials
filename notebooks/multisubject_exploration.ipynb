{
 "cells": [
  {
   "cell_type": "markdown",
   "metadata": {},
   "source": [
    "# Comparing Data Across Subjects\n",
    "\n",
    "This notebook is a small tweak from `explore_mimic_data.ipynb` in that it allows you to select multiple subjects and compare data values across the subjects. Because every patient has a random time shift, it is not straightforward to compare time series (although I'm working on it!). Instead we will look at distributions and counts of the events and values.\n",
    "\n",
    "## Questions to Explore\n",
    "\n",
    "### `DRG` values\n",
    "In the far right of the tabs below there is a tab labeled `DRG`. This shows the Diagnosis-related group (`DRG`) codes for each patient. A `DRG` code of 1.0, means this patient's combined medical conditions would be expected to lead to hospitalization costs of an average US patient. `DRG` values greater than 1.0, mean the patient would be expected to have hospitalization costs greater than average (proportional to the `DRG` value) and `DRG` values less than 1.0 should similarly be less expensive. In this data set `DRG` values range from from 0.72  to 19.80. By comparing subjects with a range of `DRG` values, can you come up with explanations for the cost differences? Radiology procedures can incur high costs as can drugs.\n",
    "\n",
    "### Infections\n",
    "\n",
    "Tests for infectious agents are shown in the `microbiology_events` table. Tests with missing values are test that did not identify any known pathogens. What are the most common pathogens `organism_name` across patients? Do higher `DRG` subjects have different pathogens? What are the frequently used antibiotics? Do the antibiotics show up on this chart of antibiotics and their costs?\n",
    "\n",
    "![antibiotic costs vs date of introduction](https://cddep.org/wp-content/uploads/2017/06/etcfig1-8.png)\n",
    "\n",
    "The `interpretation` values of `S` sensitive and `R` resistant indicate whether an organism was sensitive or resistant to an antibiotic. Can you spot any patterns of resistant antibiotics in the subjects?\n",
    "\n",
    "\n",
    "#### Remember to shutdown the other notebooks for this module before proceeding."
   ]
  },
  {
   "cell_type": "code",
   "execution_count": null,
   "metadata": {},
   "outputs": [],
   "source": [
    "import cdsutils.aeutils as ae\n",
    "import ipywidgets as ipw\n",
    "import warnings\n",
    "warnings.filterwarnings('ignore')"
   ]
  },
  {
   "cell_type": "code",
   "execution_count": null,
   "metadata": {},
   "outputs": [],
   "source": [
    "ae.init_view()"
   ]
  },
  {
   "cell_type": "code",
   "execution_count": null,
   "metadata": {},
   "outputs": [],
   "source": [
    "ae.make_description()"
   ]
  },
  {
   "cell_type": "code",
   "execution_count": null,
   "metadata": {},
   "outputs": [],
   "source": [
    "display(ae.get_explorer())"
   ]
  },
  {
   "cell_type": "code",
   "execution_count": null,
   "metadata": {},
   "outputs": [],
   "source": []
  }
 ],
 "metadata": {
  "kernelspec": {
   "display_name": "Python 3",
   "language": "python",
   "name": "python3"
  },
  "language_info": {
   "codemirror_mode": {
    "name": "ipython",
    "version": 3
   },
   "file_extension": ".py",
   "mimetype": "text/x-python",
   "name": "python",
   "nbconvert_exporter": "python",
   "pygments_lexer": "ipython3",
   "version": "3.7.6"
  }
 },
 "nbformat": 4,
 "nbformat_minor": 4
}
