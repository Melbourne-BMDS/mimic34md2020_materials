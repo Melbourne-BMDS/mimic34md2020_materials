{
 "cells": [
  {
   "cell_type": "code",
   "execution_count": null,
   "metadata": {},
   "outputs": [],
   "source": [
    "import pymysql\n",
    "import pandas as pd\n",
    "import getpass\n",
    "import re\n",
    "from collections import Counter"
   ]
  },
  {
   "cell_type": "code",
   "execution_count": null,
   "metadata": {},
   "outputs": [],
   "source": [
    "conn = pymysql.connect(host=\"35.233.174.193\",port=3306,\n",
    "                           user=getpass.getpass(\"Enter username for MIMIC2 database\"),\n",
    "                           passwd=getpass.getpass(\"Enter password for MIMIC2 database\"),\n",
    "                           db='mimic2')"
   ]
  },
  {
   "cell_type": "markdown",
   "metadata": {},
   "source": [
    "### Use Pandas and SQL to create a dataframe with the following:\n",
    "* subject_id\n",
    "* hospital admission id\n",
    "* text of the radiology report\n",
    "* Limit the number of reports to 10000"
   ]
  },
  {
   "cell_type": "code",
   "execution_count": null,
   "metadata": {},
   "outputs": [],
   "source": [
    "rad_data = \\\n",
    "pd.read_sql(\"\"\"SELECT DISTINCT noteevents.subject_id, \n",
    "                      noteevents.hadm_id,\n",
    "                      noteevents.text \n",
    "               FROM noteevents\n",
    "               WHERE noteevents.category = 'RADIOLOGY_REPORT' LIMIT 5000\"\"\",conn)\n",
    "rad_data.head(5)"
   ]
  },
  {
   "cell_type": "code",
   "execution_count": null,
   "metadata": {},
   "outputs": [],
   "source": [
    "rad_data.shape"
   ]
  },
  {
   "cell_type": "code",
   "execution_count": null,
   "metadata": {},
   "outputs": [],
   "source": [
    "print(rad_data.iloc[20][\"text\"])"
   ]
  },
  {
   "cell_type": "markdown",
   "metadata": {},
   "source": [
    "### Write a function that returns true or false depending on whether the report contains an impression section\n",
    "\n",
    "#### Hints\n",
    "\n",
    "* Not every report will have an impression section\n",
    "* \"INTERPRETATION:\" and \"CONCLUSIONS:\" might be synonyms for \"IMPRESSION:\""
   ]
  },
  {
   "cell_type": "code",
   "execution_count": null,
   "metadata": {},
   "outputs": [],
   "source": [
    "def count_impression(report):\n",
    "    for word in report.split():\n",
    "        if word == \"INTERPRETATION:\" or word == \"CONCLUSIONS:\" or word == \"IMPRESSION:\":\n",
    "            return True\n",
    "        pass\n",
    "    pass\n"
   ]
  },
  {
   "cell_type": "code",
   "execution_count": null,
   "metadata": {},
   "outputs": [],
   "source": [
    "def count_impression2(report):\n",
    "    headings = [\"INTERPRETATION:\", \"CONCLUSIONS:\", \"IMPRESSION:\"]\n",
    "    for h in headings:\n",
    "        if h in report:\n",
    "            return True\n",
    "    \n",
    "    return False\n"
   ]
  },
  {
   "cell_type": "code",
   "execution_count": null,
   "metadata": {},
   "outputs": [],
   "source": [
    "%timeit count_impression(rad_data.iloc[0][\"text\"])"
   ]
  },
  {
   "cell_type": "code",
   "execution_count": null,
   "metadata": {},
   "outputs": [],
   "source": [
    "sum([count_impression(report) for report in rad_data[\"text\"]])"
   ]
  },
  {
   "cell_type": "markdown",
   "metadata": {},
   "source": [
    "### Write a function that returns the impression section of a report\n",
    "\n"
   ]
  },
  {
   "cell_type": "code",
   "execution_count": null,
   "metadata": {},
   "outputs": [],
   "source": [
    "def get_impression(report):\n",
    "    headings = [\"INTERPRETATION:\", \"CONCLUSIONS:\", \"IMPRESSION:\"]\n",
    "    for h in headings:\n",
    "        if h in report:\n",
    "            return report[report.find(h):]\n",
    "    \n",
    "    return report"
   ]
  },
  {
   "cell_type": "code",
   "execution_count": null,
   "metadata": {},
   "outputs": [],
   "source": [
    "get_impression(rad_data.iloc[20][\"text\"])"
   ]
  },
  {
   "cell_type": "markdown",
   "metadata": {},
   "source": [
    "### Define Regular expressions for data cleansing\n",
    "\n",
    "We have a lot of patterns that are unique and don't convey meaningful information\n",
    "\n",
    "* De-identified names, dates, etc. \n",
    "    * `[**Clip Number (Radiology) 12569**]`\n",
    "    * `DATE: [**3352-7-10**] `\n",
    "    * `[**Hospital 12568**]`\n",
    "    * `[**Last Name (NamePattern4) 337**]` \n",
    "    * `[**First Name8 (NamePattern2) 12565**]` \n",
    "    * `[**Last Name (NamePattern1) 12566**]`\n",
    "* Separators  (e.g. `__________________`)\n",
    "\n",
    "### Split into groups and write and test regular expressions to capture these patterns\n",
    "* Write a regular expression to replace dates in the reports with ``[**DATE**]``\n",
    "* Write a regular expression to replace times in the reports with ``[**TIME**]``\n",
    "* Write a regular expression to replaces digits with \"d\", (e.g. \"43 cc\" would become \"dd cm\")"
   ]
  },
  {
   "cell_type": "code",
   "execution_count": null,
   "metadata": {},
   "outputs": [],
   "source": [
    "date=re.compile(r\"\"\"((?P<month>[A-Z][a-z]{2,}(\\.)?) (?P<day>[0-9]{1,2}))\"\"\")\n",
    "last_name=re.compile(r\"\"\"(\\[\\*\\*Last Name \\((NamePattern|STitle)(\\d+)?\\) [0-9]*\\*\\*\\])\"\"\")\n",
    "clip = re.compile(r\"\"\"\\[\\*\\*Clip Number \\(Radiology\\) \\d+\\*\\*\\]\"\"\")\n",
    "date2 = re.compile(r\"\"\"DATE\\: \\[\\*\\*\\d+-\\d+-\\d+\\*\\*\\]\"\"\")\n",
    "hospital=re.compile(r\"\"\"(\\[\\*\\*Hospital \\d+\\*\\*\\])\"\"\")\n",
    "unders = re.compile(r\"\"\"_{2,}\"\"\")\n",
    "\n",
    "age2 = re.compile(r\"\"\"(?P<age>[0-9]+)(-|\\s)y(ear(s)?|\\.)(-|\\s)?o(ld|\\.)\"\"\")\n",
    "age3 = re.compile(r\"\"\"\\bage(d)? (?P<age>[0-9]+)\"\"\")\n",
    "digits = re.compile(r\"\"\"\\d\"\"\")\n",
    "def age_in_decades(m):\n",
    "    age = int(m.group(\"age\"))\n",
    "    \n",
    "    return \"[** Age in %ss**]\"%(int(age/10)*10,)\n",
    "\n",
    "age_in_decades(next(age2.finditer(\"74-year-old\")))\n",
    "#tmp = re.sub(age2, age_in_decades, re.sub(age3, age_in_decades, report_txt))"
   ]
  },
  {
   "cell_type": "code",
   "execution_count": null,
   "metadata": {},
   "outputs": [],
   "source": [
    "unders.findall(rad_data.iloc[20][\"text\"])"
   ]
  },
  {
   "cell_type": "code",
   "execution_count": null,
   "metadata": {},
   "outputs": [],
   "source": [
    "hospital.findall(\"\"\"Dr. [**Last Name (STitle) 13    * `[**Hospital 12568**]`\n",
    "927**] and Dr. [**Last Name (STitle) 13928**] on\"\"\")"
   ]
  },
  {
   "cell_type": "code",
   "execution_count": null,
   "metadata": {},
   "outputs": [],
   "source": [
    "clip.findall(\"\"\"BONE SCAN                                                       Clip # [**Clip Number (Radiology) 13926**]\"\"\")"
   ]
  },
  {
   "cell_type": "code",
   "execution_count": null,
   "metadata": {},
   "outputs": [],
   "source": [
    "date2.findall(\"\"\"DATE: [**3352-7-10**]\"\"\")"
   ]
  }
 ],
 "metadata": {
  "kernelspec": {
   "display_name": "Python 3",
   "language": "python",
   "name": "python3"
  },
  "language_info": {
   "codemirror_mode": {
    "name": "ipython",
    "version": 3
   },
   "file_extension": ".py",
   "mimetype": "text/x-python",
   "name": "python",
   "nbconvert_exporter": "python",
   "pygments_lexer": "ipython3",
   "version": "3.7.6"
  }
 },
 "nbformat": 4,
 "nbformat_minor": 4
}
