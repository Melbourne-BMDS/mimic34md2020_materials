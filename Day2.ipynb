{
 "cells": [
  {
   "cell_type": "markdown",
   "metadata": {},
   "source": [
    "# Introduction Clinical NLP -- Day 2 (9:00 AM)\n",
    "\n",
    "## Introduction to the Day 9:00 AM (Live Zoom)\n",
    "\n",
    "- [Introduction to Clinical NLP (On your own)](./notebooks/Intro_to_NLP.ipynb)\n",
    "- [Introduction to Spacy (On your own)](./notebooks/nlp-01-intro_spacy.ipynb)\n",
    "\n",
    "## Touch Base  10:00 AM (Live Zoom)\n",
    "- [Introduction to Medspacy (In Person)](./notebooks/nlp-02-medspacy-concept-extraction.ipynb)\n",
    "- [Section Detection (In Person)](./notebooks/nlp-03-context-section-detection.ipynb)\n",
    "- [Machine Learning Named Entity Recognition (In Person)](./notebooks/nlp-04-machine-learning-ner.ipynb)\n",
    "- [NLP Activities (On your own)](./notebooks/nlp-05-clinical-nlp-workshop.ipynb)\n",
    "\n",
    "## NLP Wrap up 12:00 PM (Live Zoom)\n",
    "\n",
    "# Reproducible Computational Science 2:00 PM (Live Zoom)\n",
    "\n",
    "## Regular Expressions"
   ]
  },
  {
   "cell_type": "code",
   "execution_count": null,
   "metadata": {},
   "outputs": [],
   "source": []
  }
 ],
 "metadata": {
  "kernelspec": {
   "display_name": "Python 3",
   "language": "python",
   "name": "python3"
  },
  "language_info": {
   "codemirror_mode": {
    "name": "ipython",
    "version": 3
   },
   "file_extension": ".py",
   "mimetype": "text/x-python",
   "name": "python",
   "nbconvert_exporter": "python",
   "pygments_lexer": "ipython3",
   "version": "3.7.6"
  }
 },
 "nbformat": 4,
 "nbformat_minor": 4
}
